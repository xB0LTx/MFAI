{
 "cells": [
  {
   "cell_type": "markdown",
   "id": "43d4b958-ceab-4c6e-9156-ec3b7f4371fd",
   "metadata": {},
   "source": [
    "# Laboratorium 2 : Wprowadzenie do NumPy – praca na tensorach"
   ]
  },
  {
   "cell_type": "markdown",
   "id": "20933a64-3d4d-49f5-a11f-fd9e07a3bf97",
   "metadata": {},
   "source": [
    "## Marcin Ogórkiewicz 120674, grupa 1"
   ]
  },
  {
   "cell_type": "markdown",
   "id": "3fe5a2f3-926d-4ead-ae4a-2f247cffd7ad",
   "metadata": {},
   "source": [
    "### Zadanie 1.\tTworzenie tensorów\n",
    "a.\tStwórz jednowymiarowy tensor o 10 elementach (od 0 do 9) za pomocą funkcji np.arange().\n",
    "b.\tStwórz dwuwymiarowy tensor (macierz) o wymiarach 3x3 wypełniony jedynkami za pomocą funkcji np.ones().\n",
    "c.\tStwórz trójwymiarowy tensor o wymiarach 2x3x4, gdzie wszystkie wartości to losowe liczby zmiennoprzecinkowe z przedziału od 0 do 1 (użyj np.random.rand()).\n"
   ]
  },
  {
   "cell_type": "code",
   "execution_count": 2,
   "id": "2b2539e0-bad1-49bf-9ef9-5bd40fb03016",
   "metadata": {
    "ExecuteTime": {
     "end_time": "2024-12-16T14:15:02.168006900Z",
     "start_time": "2024-12-16T14:15:02.124422600Z"
    }
   },
   "outputs": [
    {
     "data": {
      "text/plain": "array([0, 1, 2, 3, 4, 5, 6, 7, 8, 9])"
     },
     "execution_count": 2,
     "metadata": {},
     "output_type": "execute_result"
    }
   ],
   "source": [
    "import numpy as np\n",
    "\n",
    "#a.\n",
    "tensor1d = np.arange(0, 10) #tensor jednowymiarowy zawierający 10 liczb 0 - 9\n",
    "tensor1d"
   ]
  },
  {
   "cell_type": "code",
   "execution_count": 4,
   "outputs": [
    {
     "data": {
      "text/plain": "array([[1., 1., 1.],\n       [1., 1., 1.],\n       [1., 1., 1.]])"
     },
     "execution_count": 4,
     "metadata": {},
     "output_type": "execute_result"
    }
   ],
   "source": [
    "#b.\n",
    "tensor2d = np.ones((3, 3)) #tensor dwuwymiarowy wypełniony jedynkami\n",
    "tensor2d"
   ],
   "metadata": {
    "collapsed": false,
    "ExecuteTime": {
     "end_time": "2024-12-16T14:16:33.901753100Z",
     "start_time": "2024-12-16T14:16:33.881753100Z"
    }
   },
   "id": "307300ef9ea9992f"
  },
  {
   "cell_type": "code",
   "execution_count": 8,
   "outputs": [
    {
     "data": {
      "text/plain": "array([[[0.63979379, 0.20574346, 0.89281398, 0.3615525 ],\n        [0.50712184, 0.06025183, 0.14227001, 0.74269664],\n        [0.46914357, 0.72835809, 0.6737257 , 0.3041879 ]],\n\n       [[0.32690085, 0.62993059, 0.35390998, 0.82228861],\n        [0.66779764, 0.92710435, 0.38962931, 0.63257208],\n        [0.54836179, 0.02749633, 0.19730477, 0.11638086]]])"
     },
     "execution_count": 8,
     "metadata": {},
     "output_type": "execute_result"
    }
   ],
   "source": [
    "tensor3d = np.random.rand(2, 3, 4) #tensor trójwymiarowy, o wymiarach 2x3x4 wypełniony wartościami zmiennoprzecinkowymi z zakresu 0 - 1 \n",
    "tensor3d"
   ],
   "metadata": {
    "collapsed": false,
    "ExecuteTime": {
     "end_time": "2024-12-16T14:20:32.742173100Z",
     "start_time": "2024-12-16T14:20:32.701636800Z"
    }
   },
   "id": "84b2a17d19198fce"
  },
  {
   "cell_type": "markdown",
   "id": "bce66170-08af-4d92-80a6-15afd3427f18",
   "metadata": {},
   "source": [
    "### Zadanie 2.\tPodstawowe operacje na tensorach\n",
    "a.\tUtwórz tensor A o wymiarach 3x3, składający się z losowych liczb całkowitych od 1 do 10 (użyj np.random.randint()).\n",
    "b.\tOblicz sumę wszystkich elementów tensora A.\n",
    "c.\tZnajdź maksymalną i minimalną wartość w tensorze A.\n"
   ]
  },
  {
   "cell_type": "code",
   "execution_count": 13,
   "id": "be0bd6ca-f997-4b0f-9c41-f5b47a95c10c",
   "metadata": {
    "ExecuteTime": {
     "end_time": "2024-12-16T14:24:13.988058Z",
     "start_time": "2024-12-16T14:24:13.944954900Z"
    }
   },
   "outputs": [
    {
     "data": {
      "text/plain": "array([[6, 6, 8],\n       [9, 9, 1],\n       [8, 8, 3]])"
     },
     "execution_count": 13,
     "metadata": {},
     "output_type": "execute_result"
    }
   ],
   "source": [
    "#a.\n",
    "tensorA  = np.random.randint(1, 11, (3, 3)) #tensor o wymiarach 3x3 wypełniony liczbami całkowitymi z zakresu 1 - 10\n",
    "tensorA"
   ]
  },
  {
   "cell_type": "code",
   "execution_count": 14,
   "outputs": [
    {
     "data": {
      "text/plain": "58"
     },
     "execution_count": 14,
     "metadata": {},
     "output_type": "execute_result"
    }
   ],
   "source": [
    "#b.\n",
    "np.sum(tensorA) #suma wartości tensora"
   ],
   "metadata": {
    "collapsed": false,
    "ExecuteTime": {
     "end_time": "2024-12-16T14:25:05.083068500Z",
     "start_time": "2024-12-16T14:25:05.064856800Z"
    }
   },
   "id": "3446f26ed8872f4a"
  },
  {
   "cell_type": "code",
   "execution_count": 15,
   "id": "bcd74f6d-58aa-46dc-8703-a7e25bb018e6",
   "metadata": {
    "ExecuteTime": {
     "end_time": "2024-12-16T14:26:15.545805600Z",
     "start_time": "2024-12-16T14:26:15.508398800Z"
    }
   },
   "outputs": [
    {
     "data": {
      "text/plain": "9"
     },
     "execution_count": 15,
     "metadata": {},
     "output_type": "execute_result"
    }
   ],
   "source": [
    "#c.\n",
    "tensorA.max() #największa wartość w tensorze"
   ]
  },
  {
   "cell_type": "code",
   "execution_count": 16,
   "outputs": [
    {
     "data": {
      "text/plain": "1"
     },
     "execution_count": 16,
     "metadata": {},
     "output_type": "execute_result"
    }
   ],
   "source": [
    "tensorA.min() #najmniejsza wartość w tensorze"
   ],
   "metadata": {
    "collapsed": false,
    "ExecuteTime": {
     "end_time": "2024-12-16T14:26:31.458967300Z",
     "start_time": "2024-12-16T14:26:31.439950200Z"
    }
   },
   "id": "41b4b1afc0a61445"
  },
  {
   "cell_type": "markdown",
   "id": "8b2267c5-5a93-4788-91d6-9a54c881887b",
   "metadata": {},
   "source": [
    "### Zadanie 3.\tOperacje arytmetyczne na tensorach\n",
    "a.\tStwórz dwa tensory jednowymiarowe B i C o 5 elementach każdy (losowe liczby od 0 do 10).\n",
    "b.\tWykonaj operacje:\n",
    "i.\tDodawanie: B + C\n",
    "ii.\tMnożenie: B * C\n",
    "iii.\tPotęgowanie: B ** 2\n"
   ]
  },
  {
   "cell_type": "code",
   "execution_count": 18,
   "outputs": [
    {
     "data": {
      "text/plain": "array([[5, 8, 9, 4, 1]])"
     },
     "execution_count": 18,
     "metadata": {},
     "output_type": "execute_result"
    }
   ],
   "source": [
    "#a.\n",
    "tensorB  = np.random.randint(0, 11, (1, 5)) #tensor jednowymiarowy zawierający 5 liczb całkowitych z zakresu 0 - 10\n",
    "tensorB"
   ],
   "metadata": {
    "collapsed": false,
    "ExecuteTime": {
     "end_time": "2024-12-16T14:28:59.541895700Z",
     "start_time": "2024-12-16T14:28:59.520679Z"
    }
   },
   "id": "55b953fc385f261"
  },
  {
   "cell_type": "code",
   "execution_count": 19,
   "outputs": [
    {
     "data": {
      "text/plain": "array([[ 0,  8, 10,  8,  0]])"
     },
     "execution_count": 19,
     "metadata": {},
     "output_type": "execute_result"
    }
   ],
   "source": [
    "tensorC  = np.random.randint(0, 11, (1, 5)) #tensor jednowymiarowy zawierający 5 liczb całkowitych z zakresu 0 - 10\n",
    "tensorC"
   ],
   "metadata": {
    "collapsed": false,
    "ExecuteTime": {
     "end_time": "2024-12-16T14:29:15.542129500Z",
     "start_time": "2024-12-16T14:29:15.498720300Z"
    }
   },
   "id": "349de1049775e6ef"
  },
  {
   "cell_type": "code",
   "execution_count": 21,
   "outputs": [
    {
     "data": {
      "text/plain": "array([[ 5, 16, 19, 12,  1]])"
     },
     "execution_count": 21,
     "metadata": {},
     "output_type": "execute_result"
    }
   ],
   "source": [
    "#b.\n",
    "#i\n",
    "np.add(tensorB, tensorC) #suma tensorów przy użyciu funkcji np.add()"
   ],
   "metadata": {
    "collapsed": false,
    "ExecuteTime": {
     "end_time": "2024-12-16T14:35:58.660525200Z",
     "start_time": "2024-12-16T14:35:58.639203100Z"
    }
   },
   "id": "8295012e7cd0dc13"
  },
  {
   "cell_type": "code",
   "execution_count": 22,
   "outputs": [
    {
     "data": {
      "text/plain": "array([[ 0, 64, 90, 32,  0]])"
     },
     "execution_count": 22,
     "metadata": {},
     "output_type": "execute_result"
    }
   ],
   "source": [
    "#ii\n",
    "np.multiply(tensorB, tensorC) #iloczyn tensorów przy użyciu funkcji np.multiply()"
   ],
   "metadata": {
    "collapsed": false,
    "ExecuteTime": {
     "end_time": "2024-12-16T14:38:12.287383700Z",
     "start_time": "2024-12-16T14:38:12.245819600Z"
    }
   },
   "id": "14dec4b928115b80"
  },
  {
   "cell_type": "code",
   "execution_count": 23,
   "outputs": [
    {
     "data": {
      "text/plain": "array([[25, 64, 81, 16,  1]], dtype=int32)"
     },
     "execution_count": 23,
     "metadata": {},
     "output_type": "execute_result"
    }
   ],
   "source": [
    "#iii\n",
    "np.power(tensorB, 2) #tensorB podniesiony do potęgi drugiej przy użyciu funkcji np.power()"
   ],
   "metadata": {
    "collapsed": false,
    "ExecuteTime": {
     "end_time": "2024-12-16T14:38:48.910419300Z",
     "start_time": "2024-12-16T14:38:48.871993100Z"
    }
   },
   "id": "1bb9f77b1c70242"
  },
  {
   "cell_type": "markdown",
   "id": "a047cd49-9d7e-4639-8f52-40af63aa886f",
   "metadata": {},
   "source": [
    "### Zadanie 4.\tZmiana wymiarów tensora\n",
    "a.\tStwórz tensor D o wymiarach 3x4 z losowych liczb całkowitych od 1 do 20.\n",
    "b.\tZmień kształt (reshape) tensora D tak, aby miał wymiary 2x6.\n",
    "c.\tWyjaśnij, czy zmiana wymiarów tensora zmieniła jego dane.\n"
   ]
  },
  {
   "cell_type": "code",
   "execution_count": 24,
   "outputs": [
    {
     "data": {
      "text/plain": "array([[18, 20, 18,  2],\n       [16, 18, 20,  5],\n       [19, 18, 17,  1]])"
     },
     "execution_count": 24,
     "metadata": {},
     "output_type": "execute_result"
    }
   ],
   "source": [
    "#a.\n",
    "tensorD  = np.random.randint(1, 21, (3, 4)) #tensor o wymiarach 3x4 wypełniony liczbami całkowitymi z zakresu 1 - 20\n",
    "tensorD"
   ],
   "metadata": {
    "collapsed": false,
    "ExecuteTime": {
     "end_time": "2024-12-16T14:41:36.815486600Z",
     "start_time": "2024-12-16T14:41:36.776117200Z"
    }
   },
   "id": "b2eb32f402a95248"
  },
  {
   "cell_type": "code",
   "execution_count": 25,
   "outputs": [
    {
     "data": {
      "text/plain": "array([[18, 20, 18,  2, 16, 18],\n       [20,  5, 19, 18, 17,  1]])"
     },
     "execution_count": 25,
     "metadata": {},
     "output_type": "execute_result"
    }
   ],
   "source": [
    "#b.\n",
    "tensorD.reshape(2,6) #zmiana wymiarów tensoraD na 2x6"
   ],
   "metadata": {
    "collapsed": false,
    "ExecuteTime": {
     "end_time": "2024-12-16T14:43:41.018122Z",
     "start_time": "2024-12-16T14:43:40.982779300Z"
    }
   },
   "id": "c8e33553a84a461c"
  },
  {
   "cell_type": "markdown",
   "source": [
    "c. Zmiana wymiarów tensora za pomocą reshape nie zmienia danych. Operacja reshape reorganizuje elementy w pamięci, ale wartości pozostają takie same, jedynie ich struktura ulega zmianie."
   ],
   "metadata": {
    "collapsed": false
   },
   "id": "db93eefab70e023c"
  },
  {
   "cell_type": "markdown",
   "source": [
    "### Zadanie 5.\tOperacje na wymiarach tensora \n",
    "a.\tStwórz tensor E o wymiarach 3x3x3 z losowych liczb od 1 do 5.\n",
    "b.\tOblicz sumę elementów wzdłuż:\n",
    "i.\tPierwszego wymiaru.\n",
    "ii.\tDrugiego wymiaru.\n",
    "iii.\tTrzeciego wymiaru.\n"
   ],
   "metadata": {
    "collapsed": false
   },
   "id": "c95f4b70e2c4a4f9"
  },
  {
   "cell_type": "code",
   "execution_count": 43,
   "outputs": [
    {
     "data": {
      "text/plain": "array([[[2.24075699, 3.78674694, 1.74597504],\n        [1.48756765, 1.58842525, 1.25273697],\n        [2.07099454, 2.88516972, 2.16241244]],\n\n       [[2.78192659, 5.34842749, 2.74679797],\n        [5.6886688 , 1.27846572, 1.90466917],\n        [1.93645626, 3.38322879, 3.93244466]],\n\n       [[3.67373885, 4.98110893, 2.75485401],\n        [1.44385023, 2.99385583, 2.30627067],\n        [3.17760814, 4.98608013, 2.94201964]]])"
     },
     "execution_count": 43,
     "metadata": {},
     "output_type": "execute_result"
    }
   ],
   "source": [
    "#a.\n",
    "tensorE = np.random.uniform(1, 6, (3, 3, 3)) #tensor o wymiarach 3x3x3 wypełniony losowymi liczbami z zakresu 1 - 5\n",
    "tensorE"
   ],
   "metadata": {
    "collapsed": false,
    "ExecuteTime": {
     "end_time": "2024-12-16T15:10:40.901669700Z",
     "start_time": "2024-12-16T15:10:40.874370300Z"
    }
   },
   "id": "856e3d0a1eabdb39"
  },
  {
   "cell_type": "code",
   "execution_count": 44,
   "outputs": [
    {
     "data": {
      "text/plain": "array([[ 8.69642243, 14.11628336,  7.24762702],\n       [ 8.62008668,  5.8607468 ,  5.4636768 ],\n       [ 7.18505894, 11.25447864,  9.03687675]])"
     },
     "execution_count": 44,
     "metadata": {},
     "output_type": "execute_result"
    }
   ],
   "source": [
    "#b.\n",
    "#i.\n",
    "np.sum(tensorE, axis=0) #suma elementów tensora wzdłuż pierwszego wymiaru"
   ],
   "metadata": {
    "collapsed": false,
    "ExecuteTime": {
     "end_time": "2024-12-16T15:10:41.562264200Z",
     "start_time": "2024-12-16T15:10:41.533241Z"
    }
   },
   "id": "3095c011355ca264"
  },
  {
   "cell_type": "code",
   "execution_count": 45,
   "outputs": [
    {
     "data": {
      "text/plain": "array([[ 5.79931919,  8.26034191,  5.16112445],\n       [10.40705165, 10.010122  ,  8.5839118 ],\n       [ 8.29519722, 12.96104489,  8.00314433]])"
     },
     "execution_count": 45,
     "metadata": {},
     "output_type": "execute_result"
    }
   ],
   "source": [
    "#ii.\n",
    "np.sum(tensorE, axis=1) #suma elementów tensora wzdłuż drugiego wymiaru"
   ],
   "metadata": {
    "collapsed": false,
    "ExecuteTime": {
     "end_time": "2024-12-16T15:10:42.385885700Z",
     "start_time": "2024-12-16T15:10:42.359754900Z"
    }
   },
   "id": "ab0545f74c94ea5d"
  },
  {
   "cell_type": "code",
   "execution_count": 46,
   "outputs": [
    {
     "data": {
      "text/plain": "array([[ 7.77347897,  4.32872987,  7.11857671],\n       [10.87715205,  8.87180369,  9.25212971],\n       [11.4097018 ,  6.74397673, 11.10570791]])"
     },
     "execution_count": 46,
     "metadata": {},
     "output_type": "execute_result"
    }
   ],
   "source": [
    "#iii.\n",
    "np.sum(tensorE, axis=2) #suma elementów tensora wzdłuż trzeciego wymiaru"
   ],
   "metadata": {
    "collapsed": false,
    "ExecuteTime": {
     "end_time": "2024-12-16T15:10:43.114208500Z",
     "start_time": "2024-12-16T15:10:43.068579500Z"
    }
   },
   "id": "48ab8c5b7e14c9ff"
  },
  {
   "cell_type": "markdown",
   "source": [
    "### Zadanie 6.\tTranspozycja tensora\n",
    "a.\tStwórz macierz F o wymiarach 4x3 z losowych liczb całkowitych od 1 do 10.\n",
    "b.\tZnajdź transpozycję macierzy F.\n",
    "c.\tZweryfikuj, czy transpozycja ponownie zamieniona na transpozycję da macierz równą oryginalnej."
   ],
   "metadata": {
    "collapsed": false
   },
   "id": "7b1c5de86f34783f"
  },
  {
   "cell_type": "code",
   "execution_count": 37,
   "outputs": [
    {
     "data": {
      "text/plain": "array([[ 7,  7,  8],\n       [ 2, 10,  8],\n       [ 7,  4,  8],\n       [ 8, 10,  5]])"
     },
     "execution_count": 37,
     "metadata": {},
     "output_type": "execute_result"
    }
   ],
   "source": [
    "#a.\n",
    "matrixF  = np.random.randint(1, 11, (4, 3)) #macierz o wymiarach 4x3 zawierająca liczby całkowite z zakresu 1 - 10\n",
    "matrixF"
   ],
   "metadata": {
    "collapsed": false,
    "ExecuteTime": {
     "end_time": "2024-12-16T14:59:52.774026400Z",
     "start_time": "2024-12-16T14:59:52.753481300Z"
    }
   },
   "id": "caf961d09276d527"
  },
  {
   "cell_type": "code",
   "execution_count": 38,
   "outputs": [
    {
     "data": {
      "text/plain": "array([[ 7,  2,  7,  8],\n       [ 7, 10,  4, 10],\n       [ 8,  8,  8,  5]])"
     },
     "execution_count": 38,
     "metadata": {},
     "output_type": "execute_result"
    }
   ],
   "source": [
    "#b.\n",
    "transposed_matrixF = matrixF.transpose() #transpozycja macierzy z poprzedniego podpunktu\n",
    "transposed_matrixF"
   ],
   "metadata": {
    "collapsed": false,
    "ExecuteTime": {
     "end_time": "2024-12-16T14:59:54.321114900Z",
     "start_time": "2024-12-16T14:59:54.289543400Z"
    }
   },
   "id": "2a243778cd329c8b"
  },
  {
   "cell_type": "code",
   "execution_count": 39,
   "outputs": [
    {
     "data": {
      "text/plain": "array([[ 7,  7,  8],\n       [ 2, 10,  8],\n       [ 7,  4,  8],\n       [ 8, 10,  5]])"
     },
     "execution_count": 39,
     "metadata": {},
     "output_type": "execute_result"
    }
   ],
   "source": [
    "#c.\n",
    "transposed_matrixF.transpose() #transpozycja transpozycji macierzy z poprzedniego podpunktu"
   ],
   "metadata": {
    "collapsed": false,
    "ExecuteTime": {
     "end_time": "2024-12-16T15:00:10.046494400Z",
     "start_time": "2024-12-16T15:00:10.011557200Z"
    }
   },
   "id": "9c4dfa60fc89da85"
  },
  {
   "cell_type": "markdown",
   "source": [
    "Jak widać powyżej, ponowna transpozycja przywraca macierz do stanu pierwotnego."
   ],
   "metadata": {
    "collapsed": false
   },
   "id": "f703b7f1da87d838"
  },
  {
   "cell_type": "markdown",
   "source": [
    "### Zadanie 7.\tMnożenie macierzy\n",
    "a.\tStwórz dwie macierze G i H o wymiarach 2x3 oraz 3x2 (losowe liczby całkowite od 1 do 5).\n",
    "b.\tWykonaj mnożenie macierzy G i H (użyj np.dot() lub operatora @).\n",
    "c.\tZweryfikuj wymiary otrzymanego wyniku.\n"
   ],
   "metadata": {
    "collapsed": false
   },
   "id": "4e0b81ecae5b2109"
  },
  {
   "cell_type": "code",
   "execution_count": 40,
   "outputs": [
    {
     "data": {
      "text/plain": "array([[4, 4, 3],\n       [2, 3, 1]])"
     },
     "execution_count": 40,
     "metadata": {},
     "output_type": "execute_result"
    }
   ],
   "source": [
    "#a.\n",
    "matrixG  = np.random.randint(1, 5, (2, 3)) #macierz o wymiarach 2x3 zawierająca liczby całkowite z zakresu 1 - 5\n",
    "matrixG"
   ],
   "metadata": {
    "collapsed": false,
    "ExecuteTime": {
     "end_time": "2024-12-16T15:03:41.672442200Z",
     "start_time": "2024-12-16T15:03:41.646899500Z"
    }
   },
   "id": "60a39dc2a951684f"
  },
  {
   "cell_type": "code",
   "execution_count": 41,
   "outputs": [
    {
     "data": {
      "text/plain": "array([[4, 3],\n       [2, 4],\n       [4, 2]])"
     },
     "execution_count": 41,
     "metadata": {},
     "output_type": "execute_result"
    }
   ],
   "source": [
    "matrixH = np.random.randint(1, 5, (3, 2)) #macierz o wymiarach 3x2 zawierająca liczby całkowite z zakresu 1 - 5\n",
    "matrixH"
   ],
   "metadata": {
    "collapsed": false,
    "ExecuteTime": {
     "end_time": "2024-12-16T15:04:43.173161200Z",
     "start_time": "2024-12-16T15:04:43.148010900Z"
    }
   },
   "id": "fc6ae5673583602b"
  },
  {
   "cell_type": "code",
   "execution_count": 42,
   "outputs": [
    {
     "data": {
      "text/plain": "array([[36, 34],\n       [18, 20]])"
     },
     "execution_count": 42,
     "metadata": {},
     "output_type": "execute_result"
    }
   ],
   "source": [
    "#b\n",
    "np.dot(matrixG, matrixH)"
   ],
   "metadata": {
    "collapsed": false,
    "ExecuteTime": {
     "end_time": "2024-12-16T15:05:22.508421900Z",
     "start_time": "2024-12-16T15:05:22.465529900Z"
    }
   },
   "id": "1ed651abc6ebc97c"
  },
  {
   "cell_type": "markdown",
   "source": [
    "c. Wymiary powyższej macierzy są poprawne, wynik ma format 2x2"
   ],
   "metadata": {
    "collapsed": false
   },
   "id": "d8f41e35f3c9a7be"
  },
  {
   "cell_type": "markdown",
   "source": [
    "### Zadanie 8.\tWybór elementów i wycinanie (slicing) tensora\n",
    "a.\tStwórz tensor I o wymiarach 5x5, wypełniony liczbami od 1 do 25.\n",
    "b.\tWybierz i wyświetl środkowy fragment 3x3 z tensora I.\n",
    "c.\tWybierz pierwszą kolumnę i ostatni wiersz tensora I.\n"
   ],
   "metadata": {
    "collapsed": false
   },
   "id": "927bd075b4870f6a"
  },
  {
   "cell_type": "code",
   "execution_count": 48,
   "outputs": [
    {
     "data": {
      "text/plain": "array([[17.05153038, 11.67008892,  6.13629689, 15.67102913, 25.65480049],\n       [ 8.54623095,  8.06913655,  5.98017703, 13.25618444,  4.40989022],\n       [ 2.76068837, 13.46750553,  5.93328534, 14.5234407 ,  4.995371  ],\n       [ 6.46863243, 20.84166437, 18.91641842,  3.5434854 ,  4.3133307 ],\n       [14.60508561,  9.16646486, 13.05329844, 10.10923694, 18.98228206]])"
     },
     "execution_count": 48,
     "metadata": {},
     "output_type": "execute_result"
    }
   ],
   "source": [
    "#a.\n",
    "tensorI = np.random.uniform(1, 26, (5, 5)) #tensor o wymiarach 5x5 wypełniony losowymi liczbami z zakresu 1 - 25\n",
    "tensorI"
   ],
   "metadata": {
    "collapsed": false,
    "ExecuteTime": {
     "end_time": "2024-12-16T15:10:57.139565200Z",
     "start_time": "2024-12-16T15:10:57.112337Z"
    }
   },
   "id": "16ff4125d7c30fe0"
  },
  {
   "cell_type": "code",
   "execution_count": 49,
   "outputs": [
    {
     "data": {
      "text/plain": "array([[ 8.06913655,  5.98017703, 13.25618444],\n       [13.46750553,  5.93328534, 14.5234407 ],\n       [20.84166437, 18.91641842,  3.5434854 ]])"
     },
     "execution_count": 49,
     "metadata": {},
     "output_type": "execute_result"
    }
   ],
   "source": [
    "#b.\n",
    "tensorI[1:4, 1:4] #środkowy fragment tensora, zaczynający się od drugiej kolumny i drugiego wiersza"
   ],
   "metadata": {
    "collapsed": false,
    "ExecuteTime": {
     "end_time": "2024-12-16T15:16:27.822347200Z",
     "start_time": "2024-12-16T15:16:27.785603400Z"
    }
   },
   "id": "558938b729f8c23c"
  },
  {
   "cell_type": "code",
   "execution_count": 50,
   "outputs": [
    {
     "data": {
      "text/plain": "25.65480049017515"
     },
     "execution_count": 50,
     "metadata": {},
     "output_type": "execute_result"
    }
   ],
   "source": [
    "#c.\n",
    "tensorI[0, 4] #pierwsza kolumna i ostatni wiersz tensora"
   ],
   "metadata": {
    "collapsed": false,
    "ExecuteTime": {
     "end_time": "2024-12-16T15:20:27.762142100Z",
     "start_time": "2024-12-16T15:20:27.714135400Z"
    }
   },
   "id": "624e98d32df3b700"
  },
  {
   "cell_type": "markdown",
   "id": "4f1659c0-afb1-4358-8d5c-b667766e6dd7",
   "metadata": {},
   "source": [
    "### Wnioski"
   ]
  },
  {
   "cell_type": "markdown",
   "source": [
    "W trakcie laboratorium zaznajomiłem się z pracą na tensorach w bibliotece NumPy, co pomoże mi w tworzeniu własnych modeli uczenia maszynowego."
   ],
   "metadata": {
    "collapsed": false
   },
   "id": "e118c442f1b63f9f"
  },
  {
   "cell_type": "code",
   "execution_count": null,
   "outputs": [],
   "source": [],
   "metadata": {
    "collapsed": false
   },
   "id": "ad07932d59e2ce8f"
  }
 ],
 "metadata": {
  "kernelspec": {
   "display_name": "Python 3 (ipykernel)",
   "language": "python",
   "name": "python3"
  },
  "language_info": {
   "codemirror_mode": {
    "name": "ipython",
    "version": 3
   },
   "file_extension": ".py",
   "mimetype": "text/x-python",
   "name": "python",
   "nbconvert_exporter": "python",
   "pygments_lexer": "ipython3",
   "version": "3.11.10"
  }
 },
 "nbformat": 4,
 "nbformat_minor": 5
}
