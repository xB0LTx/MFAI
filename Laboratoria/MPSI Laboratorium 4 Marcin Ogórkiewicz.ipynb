{
 "cells": [
  {
   "cell_type": "markdown",
   "id": "43d4b958-ceab-4c6e-9156-ec3b7f4371fd",
   "metadata": {},
   "source": [
    "# Laboratorium 4 : Podstawowe funkcje w SciPy"
   ]
  },
  {
   "cell_type": "markdown",
   "id": "20933a64-3d4d-49f5-a11f-fd9e07a3bf97",
   "metadata": {},
   "source": [
    "## Marcin Ogórkiewicz 120674, grupa 1"
   ]
  },
  {
   "cell_type": "raw",
   "source": [
    " Zadanie 1: Rozwiązywanie układów równań liniowych\n",
    " Rozwiąż układy równań liniowych: \n",
    " a). \n",
    " 2 𝑥 + 3 𝑦 = 5 \n",
    " 4 𝑥 − 𝑦 = 3 \n",
    " b). \n",
    " 𝑥 + 2 𝑦 + 𝑧 = 6 \n",
    " 3 𝑥 + 4 𝑦 + 5 𝑧 = 20 \n",
    " 2 𝑥 + 𝑦 − 𝑧 = 4 \n",
    " c). \n",
    " 𝑥 + 𝑦 + 𝑧 + 𝑤 = 10 \n",
    " 2 𝑥 − 𝑦 + 3 𝑧 − 𝑤 = 5\n",
    " 4 𝑥 + 𝑦 + 𝑧 + 𝑤 = 20 \n",
    " 𝑥 − 𝑦 − 𝑧 + 𝑤 = 2 \n",
    " d). \n",
    " 0 . 5 𝑥 + 1 . 5 𝑦 = 2 . 5 \n",
    " 1 . 2 𝑥 − 0 . 8 𝑦 = 1 . 6 \n",
    " Zapisz równania w formie macierzowej i użyj scipy.linalg.solve do znalezienia rozwiązania.\n"
   ],
   "metadata": {
    "collapsed": false
   },
   "id": "cda3a109ffaa78d4"
  },
  {
   "cell_type": "code",
   "execution_count": 43,
   "id": "2b2539e0-bad1-49bf-9ef9-5bd40fb03016",
   "metadata": {
    "ExecuteTime": {
     "end_time": "2024-12-16T19:47:54.864194300Z",
     "start_time": "2024-12-16T19:47:53.661505800Z"
    }
   },
   "outputs": [
    {
     "data": {
      "text/plain": "     x    y\n0  1.0  1.0",
      "text/html": "<div>\n<style scoped>\n    .dataframe tbody tr th:only-of-type {\n        vertical-align: middle;\n    }\n\n    .dataframe tbody tr th {\n        vertical-align: top;\n    }\n\n    .dataframe thead th {\n        text-align: right;\n    }\n</style>\n<table border=\"1\" class=\"dataframe\">\n  <thead>\n    <tr style=\"text-align: right;\">\n      <th></th>\n      <th>x</th>\n      <th>y</th>\n    </tr>\n  </thead>\n  <tbody>\n    <tr>\n      <th>0</th>\n      <td>1.0</td>\n      <td>1.0</td>\n    </tr>\n  </tbody>\n</table>\n</div>"
     },
     "execution_count": 43,
     "metadata": {},
     "output_type": "execute_result"
    }
   ],
   "source": [
    "import numpy as np\n",
    "import pandas as pd\n",
    "import scipy as sp\n",
    "import matplotlib.pyplot as plt\n",
    "\n",
    "#a)\n",
    "Aa = np.array([[2, 3], [4, -1]]) #tablica argumentów\n",
    "Ba = np.array([5, 3]) #tablica wartości\n",
    "a_result = sp.linalg.solve(Aa, Ba) #użycie scipy.linalg.solve do znalezienia rozwiązania układu równań liniowych\n",
    "a_result_df = pd.DataFrame(a_result.reshape(1, -1), columns=[\"x\", \"y\"]) #utworzenie df dla estetycznego wyświetlenia wyniku\n",
    "a_result_df"
   ]
  },
  {
   "cell_type": "code",
   "execution_count": 21,
   "outputs": [
    {
     "data": {
      "text/plain": "     x         y         z\n0  2.5  0.833333  1.833333",
      "text/html": "<div>\n<style scoped>\n    .dataframe tbody tr th:only-of-type {\n        vertical-align: middle;\n    }\n\n    .dataframe tbody tr th {\n        vertical-align: top;\n    }\n\n    .dataframe thead th {\n        text-align: right;\n    }\n</style>\n<table border=\"1\" class=\"dataframe\">\n  <thead>\n    <tr style=\"text-align: right;\">\n      <th></th>\n      <th>x</th>\n      <th>y</th>\n      <th>z</th>\n    </tr>\n  </thead>\n  <tbody>\n    <tr>\n      <th>0</th>\n      <td>2.5</td>\n      <td>0.833333</td>\n      <td>1.833333</td>\n    </tr>\n  </tbody>\n</table>\n</div>"
     },
     "execution_count": 21,
     "metadata": {},
     "output_type": "execute_result"
    }
   ],
   "source": [
    "#b)\n",
    "Ab = np.array([[1, 2, 1], [3, 4, 5], [2, 1, -1]]) #tablica argumentów\n",
    "Bb = np.array([6, 20, 4]) #tablica wartości\n",
    "b_result = sp.linalg.solve(Ab, Bb) #użycie scipy.linalg.solve do znalezienia rozwiązania układu równań liniowych\n",
    "b_result_df = pd.DataFrame(b_result.reshape(1, -1), columns=[\"x\", \"y\", \"z\"]) #utworzenie df dla estetycznego wyświetlenia wyniku\n",
    "b_result_df"
   ],
   "metadata": {
    "collapsed": false,
    "ExecuteTime": {
     "end_time": "2024-12-16T18:40:50.434808100Z",
     "start_time": "2024-12-16T18:40:50.394917700Z"
    }
   },
   "id": "307300ef9ea9992f"
  },
  {
   "cell_type": "code",
   "execution_count": 22,
   "outputs": [
    {
     "data": {
      "text/plain": "          x     y     z         w\n0  3.333333  2.75  1.25  2.666667",
      "text/html": "<div>\n<style scoped>\n    .dataframe tbody tr th:only-of-type {\n        vertical-align: middle;\n    }\n\n    .dataframe tbody tr th {\n        vertical-align: top;\n    }\n\n    .dataframe thead th {\n        text-align: right;\n    }\n</style>\n<table border=\"1\" class=\"dataframe\">\n  <thead>\n    <tr style=\"text-align: right;\">\n      <th></th>\n      <th>x</th>\n      <th>y</th>\n      <th>z</th>\n      <th>w</th>\n    </tr>\n  </thead>\n  <tbody>\n    <tr>\n      <th>0</th>\n      <td>3.333333</td>\n      <td>2.75</td>\n      <td>1.25</td>\n      <td>2.666667</td>\n    </tr>\n  </tbody>\n</table>\n</div>"
     },
     "execution_count": 22,
     "metadata": {},
     "output_type": "execute_result"
    }
   ],
   "source": [
    "#c)\n",
    "Ac = np.array([[1, 1, 1, 1], [2, -1, 3, -1], [4, 1, 1, 1], [1, -1, -1, 1]]) #tablica argumentów\n",
    "Bc = np.array([10, 5, 20, 2]) #tablica wartości\n",
    "c_result = sp.linalg.solve(Ac, Bc) #użycie scipy.linalg.solve do znalezienia rozwiązania układu równań liniowych\n",
    "c_result_df = pd.DataFrame(c_result.reshape(1, -1), columns=[\"x\", \"y\", \"z\", \"w\"]) #utworzenie df dla estetycznego wyświetlenia wyniku\n",
    "c_result_df"
   ],
   "metadata": {
    "collapsed": false,
    "ExecuteTime": {
     "end_time": "2024-12-16T18:40:51.565952300Z",
     "start_time": "2024-12-16T18:40:51.534343700Z"
    }
   },
   "id": "84b2a17d19198fce"
  },
  {
   "cell_type": "code",
   "execution_count": 23,
   "outputs": [
    {
     "data": {
      "text/plain": "     x    y\n0  2.0  1.0",
      "text/html": "<div>\n<style scoped>\n    .dataframe tbody tr th:only-of-type {\n        vertical-align: middle;\n    }\n\n    .dataframe tbody tr th {\n        vertical-align: top;\n    }\n\n    .dataframe thead th {\n        text-align: right;\n    }\n</style>\n<table border=\"1\" class=\"dataframe\">\n  <thead>\n    <tr style=\"text-align: right;\">\n      <th></th>\n      <th>x</th>\n      <th>y</th>\n    </tr>\n  </thead>\n  <tbody>\n    <tr>\n      <th>0</th>\n      <td>2.0</td>\n      <td>1.0</td>\n    </tr>\n  </tbody>\n</table>\n</div>"
     },
     "execution_count": 23,
     "metadata": {},
     "output_type": "execute_result"
    }
   ],
   "source": [
    "#d)\n",
    "Ad = np.array([[0.5, 1.5], [1.2, -0.8]]) #tablica argumentów\n",
    "Bd = np.array([2.5, 1.6]) #tablica wartości\n",
    "d_result = sp.linalg.solve(Ad, Bd) #użycie scipy.linalg.solve do znalezienia rozwiązania układu równań liniowych\n",
    "d_result_df = pd.DataFrame(d_result.reshape(1, -1), columns=[\"x\", \"y\"]) #utworzenie df dla estetycznego wyświetlenia wyniku\n",
    "d_result_df"
   ],
   "metadata": {
    "collapsed": false,
    "ExecuteTime": {
     "end_time": "2024-12-16T18:40:52.549199200Z",
     "start_time": "2024-12-16T18:40:52.522505600Z"
    }
   },
   "id": "92d4651fa9388f42"
  },
  {
   "cell_type": "raw",
   "source": [
    "Zadanie 2: Znajdowanie minimum funkcji \n",
    "Znajdź minimum funkcji: 𝑓 ( 𝑥 ) = 𝑥 2 + 4 𝑥 + 4. Użyj scipy.optimize.minimize do rozwiązania problemu optymalizacji.\n"
   ],
   "metadata": {
    "collapsed": false
   },
   "id": "cadf9bf7001658bc"
  },
  {
   "cell_type": "code",
   "execution_count": 35,
   "id": "be0bd6ca-f997-4b0f-9c41-f5b47a95c10c",
   "metadata": {
    "ExecuteTime": {
     "end_time": "2024-12-16T18:51:20.444199Z",
     "start_time": "2024-12-16T18:51:20.418688100Z"
    }
   },
   "outputs": [
    {
     "data": {
      "text/plain": "     x    y\n0 -2.0  0.0",
      "text/html": "<div>\n<style scoped>\n    .dataframe tbody tr th:only-of-type {\n        vertical-align: middle;\n    }\n\n    .dataframe tbody tr th {\n        vertical-align: top;\n    }\n\n    .dataframe thead th {\n        text-align: right;\n    }\n</style>\n<table border=\"1\" class=\"dataframe\">\n  <thead>\n    <tr style=\"text-align: right;\">\n      <th></th>\n      <th>x</th>\n      <th>y</th>\n    </tr>\n  </thead>\n  <tbody>\n    <tr>\n      <th>0</th>\n      <td>-2.0</td>\n      <td>0.0</td>\n    </tr>\n  </tbody>\n</table>\n</div>"
     },
     "execution_count": 35,
     "metadata": {},
     "output_type": "execute_result"
    }
   ],
   "source": [
    "def f(x): #definiowanie funkcji\n",
    "    return x**2 + 4*x + 4\n",
    "initial_guess = 0 #punkt początkowy do znalezienia minimum\n",
    "result2 = sp.optimize.minimize(f, initial_guess) #użycie scipy.optimize.minimize do znalezienia minimum\n",
    "result2_df = pd.DataFrame([[result2.x[0], result2.fun]], columns=[\"x\", \"y\"]) #utworzenie df dla estetycznego wyświetlenia wyniku\n",
    "result2_df"
   ]
  },
  {
   "cell_type": "markdown",
   "source": [
    "Minimum funkcji znajduje się w powyższym punkcie"
   ],
   "metadata": {
    "collapsed": false
   },
   "id": "e2566c3c863910e5"
  },
  {
   "cell_type": "raw",
   "source": [
    "Zadanie 3: Generowanie danych z rozkładów statystycznych \n",
    "Wygeneruj dane z rozkładu normalnego ze średnią 5 i odchyleniem standardowym 2 (1000 próbek). A następnie oblicz średnią, medianę i odchylenie standardowe dla wygenerowanego zestawu danych. W zadaniu wykorzystaj moduł scipy.stats ."
   ],
   "metadata": {
    "collapsed": false
   },
   "id": "c68ca4a9fe18ee1c"
  },
  {
   "cell_type": "code",
   "execution_count": 39,
   "outputs": [
    {
     "data": {
      "text/plain": "array([ 3.31399952,  7.74214383,  5.86363185,  2.87336782,  6.82022811,\n        4.19439203,  5.02111302,  4.57404788,  4.52040345,  2.09070814,\n        6.31341762,  5.80796819,  5.9855452 ,  6.67386744,  4.21525185,\n        3.37232808,  6.55970962,  6.70767779,  6.02624073,  3.7951895 ,\n        5.36763938,  7.27859147,  5.02980767,  2.89725448,  6.66047823,\n        5.35415559,  3.85989314,  6.20116329,  2.52590283,  5.12119635,\n        4.06057816,  4.51827811,  6.52408032,  5.31846041,  3.68934295,\n        3.98631698,  7.87945556,  2.14366274,  6.54146262,  8.66328837,\n        9.07055858,  5.87080843,  6.533815  ,  8.20504063,  9.38522088,\n        2.35476256,  5.80825652,  5.00468025,  4.00905117,  3.65506423,\n        4.24559986,  5.96899551,  5.77949011,  5.61919886,  6.94974268,\n        4.87775277,  5.92249353,  4.81425662,  3.85505718,  2.29580877,\n        5.64460168,  6.32433416,  4.58294702,  5.3180637 ,  8.10813988,\n        0.2081004 ,  5.73069218,  0.8266604 ,  1.82434013,  6.07626617,\n        6.33763327,  1.80174642, -0.07746812,  4.65432228,  5.16522984,\n        6.77030754,  1.83739498,  3.54675803,  4.91815347,  7.34494804,\n        6.37567148,  2.54694622,  3.21541718,  5.25109215,  7.03522716,\n        4.81576754,  6.62381048,  6.4801573 ,  2.50407459,  3.09022817,\n        3.31833747,  4.44401443,  4.63456378,  4.46418733,  4.75605772,\n        4.89650429,  3.27159382,  0.24949411,  5.72766387,  8.0803354 ,\n        5.93478473,  0.11764573,  4.66859667,  3.12840155,  4.6088226 ,\n        0.89548074,  4.61405809,  1.92832526,  3.61030725,  4.44580437,\n        3.76432024,  1.7179968 ,  3.86162287,  6.24975404,  7.66252744,\n        9.03486695,  4.99982123,  5.12355351,  4.95356969,  6.13271779,\n        7.39843765,  4.8641463 ,  6.13526463,  6.42618297,  2.19355521,\n        3.03451726,  5.60212962,  5.98909869,  4.56845882,  7.48961701,\n        7.91446686, -0.02700935,  5.29536198,  5.73126141,  5.24303458,\n        2.99345377,  5.03595108,  5.20137512,  3.90555849,  2.23876024,\n        2.69926274,  5.83037798,  7.53622307,  4.55958259,  6.39040542,\n        5.52007734,  6.1021592 ,  2.46378197,  3.34979812,  3.97187075,\n        8.18183416,  3.27632037,  5.63448779,  4.32460821,  3.133882  ,\n        6.24246157,  3.54246782,  5.21346259,  5.95640094,  4.36530782,\n        2.78761168,  6.0484224 ,  5.88563272,  3.1959521 ,  3.88287339,\n        2.87000714,  4.12673441,  5.70313365,  3.55150103,  8.85570353,\n        5.08333592,  4.51437522,  6.2969067 ,  6.65789332,  6.13416894,\n        3.32410558,  4.78673317,  0.62026141,  2.71866697,  4.39867697,\n        3.44639412,  8.48381342,  5.4390054 ,  1.83717782,  2.80064578,\n        3.53224988,  6.86285186,  4.81331898,  6.15077058,  5.74784997,\n        4.44066786,  4.723053  ,  5.48063876,  3.21878004,  4.61746246,\n        4.58460653,  2.5622777 ,  6.54522132,  5.70528396,  5.13845054,\n        5.30994227,  6.65032284,  4.24332463,  3.91576792,  4.50127289,\n        3.50850094,  4.25897159,  3.08854154,  3.61390132,  3.46355334,\n        7.23717115,  6.05744647,  2.98834873,  5.74927133,  6.65636418,\n        5.42900883,  5.55023195,  4.99083316,  7.12157664,  3.5144597 ,\n        8.55132476,  3.80608761,  4.66612275,  5.51686118,  0.85437214,\n        4.2346947 ,  6.05040093,  3.03038533,  7.21723639,  3.52234579,\n        6.13439927,  4.8783375 ,  3.03290427,  3.74733181,  6.83085264,\n        6.34944107,  4.46147811,  6.45400443,  2.68071678,  5.11989563,\n        4.55686195,  7.84516731,  6.07573418,  3.87606979,  4.60970004,\n        6.14402058,  3.01912799,  6.26404709,  0.71239968,  5.90992003,\n        7.54584685,  5.12658469,  4.88831661,  5.72213734,  5.13361153,\n        8.05896473,  6.38232817,  2.05827546,  4.86319388,  4.62759957,\n        2.71492634,  5.26410566,  3.26489563,  4.75039949,  5.40976027,\n        6.7634098 ,  6.3171595 ,  8.75780919,  6.67627263,  3.52723417,\n        4.97228653,  4.98971494,  3.51311804,  6.0587791 ,  7.81417647,\n        5.15389036,  6.27771783,  3.62367582,  5.53681621,  5.46857226,\n        4.25219082,  5.65775902,  5.83168001,  4.37495715,  2.32107322,\n        6.72367883,  5.27792589,  4.1613981 ,  4.74101934,  1.72534675,\n        6.60233611,  7.83196548,  1.99313163,  2.72290691,  6.42185938,\n        3.38082188,  0.06198627,  6.16635816,  3.1633242 ,  3.86902578,\n        3.87432801,  5.86502515,  5.64919274,  3.1304084 ,  5.71298823,\n        2.91008132,  6.15164407,  6.24772254,  5.46287098,  6.50288094,\n        6.9880895 ,  7.03641084,  2.32317912,  4.25688976,  6.85971182,\n        6.14782434,  5.14952356,  4.5751574 ,  3.38799027,  1.72282791,\n        8.02887956,  5.89004643,  5.1768971 ,  5.34467327,  3.23659903,\n        5.52428872,  3.16907737, 10.14122321,  9.3896374 ,  4.9197304 ,\n        5.05081366,  7.74070222,  1.48403049,  5.39671108,  4.91471724,\n        5.47558742,  4.01385781,  4.29841587,  5.85493649,  5.42591991,\n        5.67216975,  3.10875034,  5.12052817,  4.15403501,  3.04842419,\n        5.54186831,  4.00528179,  0.80104875,  5.56986691,  5.03576486,\n        2.01981995,  1.51124973,  2.52230967,  5.51810591,  2.29728042,\n        5.90917484,  4.68169509,  6.31775659,  5.15208305,  6.47485994,\n        8.34181424,  4.4641374 ,  2.58192279,  6.00491691,  6.39429372,\n        4.36680173,  5.04752675,  4.96971258,  4.27615721,  5.03004397,\n        5.21662501,  1.94566245,  1.64336154,  3.97465997,  4.69672552,\n        4.65578644,  5.58895529,  8.73518805,  5.35852537,  7.07115499,\n        6.80104282,  2.80288823,  7.15534242,  7.68314793,  5.56270688,\n        8.30702467,  6.58329319,  6.72112824,  7.17762787,  3.12017128,\n        9.57847734,  1.21105257,  9.7288835 ,  4.49318784,  4.80975053,\n        7.30482186,  3.52006196,  4.46827857,  2.91392133,  4.75524724,\n        4.1839981 ,  6.72286098,  4.56933169,  6.09040281,  2.7585751 ,\n        3.31526128,  5.05175896,  4.59772605,  4.86335537,  3.35334275,\n        7.34518916,  7.59621322,  7.4785053 ,  4.9648977 ,  6.41615245,\n        5.86927796,  5.585157  ,  2.47401871,  5.90171896,  9.10460244,\n        3.27689868,  5.53546798,  6.01073422,  5.11648522,  2.84407245,\n        4.76561783,  4.62895843,  3.14244429,  4.54622912,  4.7128343 ,\n        7.22774834,  6.51763685,  3.1139027 ,  6.48463742,  3.11081774,\n        6.1576039 , -0.10110323,  4.72845244,  5.1617769 ,  4.96038381,\n        6.90626091,  5.85583362,  8.15616715,  2.58921587,  3.98674509,\n        2.04733407,  6.93728744,  6.09339661,  6.7840807 ,  2.31053765,\n        2.99680698,  7.10073983,  4.18797419,  3.92473731,  6.25002839,\n        7.57348957,  4.45816028,  4.59259887,  5.81265918,  3.10622069,\n        6.99726333,  5.41301131,  6.71184271,  4.45842295,  4.96818992,\n        4.97325062,  5.28915878,  8.25399488,  6.01956545,  6.7358322 ,\n        6.51165531,  2.85888796,  9.13160515,  5.09012176,  2.5939409 ,\n        3.5236159 ,  6.65358393,  6.96360348,  6.67752245,  3.37219345,\n        3.99901133,  3.78268062,  3.67898245,  8.19304747,  6.51462387,\n        5.53113604,  6.1412776 ,  4.68824826,  7.23976105,  5.69667499,\n        4.16632734,  4.23510947,  3.97913773,  6.01953357,  3.97580635,\n        4.29930052,  5.01801005,  1.68891838,  2.69448629,  4.17473459,\n        2.34447346,  4.42960328,  5.4095927 ,  7.89910956,  5.37796941,\n        2.31312118,  5.49868101,  7.64510856,  4.14693071,  6.18384017,\n        6.56874568,  3.54895234,  5.29192328,  2.98244254,  4.97627954,\n        4.30664718,  5.44765732,  7.14923317,  7.7959035 ,  6.92795134,\n        6.26900973,  4.91265215,  4.50986431,  4.98245737,  2.96671295,\n        8.25399164,  5.13344138,  3.58975722,  5.46235459,  3.85466028,\n        5.46509967,  8.0341406 ,  0.04140145,  5.4280931 ,  6.79265171,\n        3.38726971,  7.63280494,  3.11791607,  7.95569554, 10.16154496,\n        3.48533946,  5.72872925,  5.74885809,  4.69367297,  2.28894987,\n        4.15557067,  6.37654056,  3.71519104,  7.10746832,  5.48533699,\n        4.36633866,  4.75266253,  4.32024994,  1.8637408 ,  4.89377845,\n        2.48023836,  6.73973432,  2.51054646,  6.32862423,  3.03041326,\n        5.58117706,  6.24571672,  3.76232806,  5.52024501,  3.04453755,\n        4.06416031,  6.22294577,  5.78470462,  4.14819944,  5.21882267,\n        6.45026408,  5.9334955 ,  4.65367947,  5.20179759,  3.37178176,\n        6.24198353,  7.2607056 ,  6.1821397 ,  4.30034149,  7.11944492,\n        1.72746216,  6.23172221,  7.17268402,  6.8782829 ,  6.79533949,\n        5.15505742,  5.98081257,  5.22332709,  3.96743474,  3.95888892,\n        7.0042022 ,  5.42317313,  4.13638515,  3.76221175,  5.56633392,\n        4.47466617,  4.35955065,  4.11265969,  5.77675591,  4.49631828,\n        2.07254637,  5.38746684,  6.32149577,  4.31116362,  5.57430371,\n        2.86512828,  5.35441563,  4.94933959,  4.76814696,  3.76690901,\n        6.50436525,  3.89032985,  5.86946178,  4.79348806,  4.40894032,\n        5.67428555,  2.48048195,  2.73875861,  1.85074003,  6.33798917,\n        3.32782332,  5.38537192,  5.39463009,  5.3242872 ,  4.4788946 ,\n        4.94962792,  7.41855059,  3.75180264,  7.42535089,  3.77090103,\n        3.91237195,  4.93695632,  6.33974465,  6.35273979,  6.15583594,\n        7.54474972,  4.29296814,  4.67051939,  2.878704  ,  5.20690338,\n        5.92258939,  3.7896053 ,  5.90864959,  2.0813881 ,  6.05227183,\n        6.21066236,  5.46735158,  4.20882195,  5.28513142,  6.90011409,\n        6.34130995,  4.03465913,  5.86958885,  3.07325301,  3.91610101,\n        7.30595571,  3.22093322,  3.38002383,  2.94878274,  4.04134635,\n        2.7018498 ,  6.13348671,  3.43751953,  8.57020523,  4.18277701,\n        2.45315779,  5.80933392,  6.2042083 ,  4.33110397,  5.70113189,\n        7.58773069,  0.53444544,  7.07177295,  4.55788411,  6.74382867,\n        5.27804126,  3.36430566,  8.86732844,  3.4515194 ,  3.23795984,\n        2.91229034,  6.6218523 ,  2.83232588,  6.09877812,  8.2990135 ,\n        6.71363223,  3.88408693,  7.33468143,  4.04129112,  3.52148938,\n        8.45420517,  3.28644919,  4.72644593,  7.58908431,  3.89878198,\n        3.97425861,  5.74670431,  9.731656  , 10.16579   ,  5.55847509,\n        5.07083386,  1.97319041,  7.72537504,  7.73617718,  5.30407555,\n        5.1860261 ,  4.15288312,  4.02663994,  5.02074774,  3.45380898,\n        5.705084  ,  5.28571204,  2.86928572,  5.94076681,  3.37547747,\n        8.27651825,  4.11053244,  3.07824108,  5.71467654,  6.50471728,\n        3.14052911,  2.77947787,  7.50130109,  8.02110774,  4.45049115,\n        4.28238769,  6.29864   ,  2.48838214,  8.18501421,  4.67886225,\n        4.4638599 ,  5.19100416,  8.05434578,  7.40975712,  4.25389777,\n        4.65513718,  4.91292067,  6.40707552,  4.67563486,  3.78817791,\n        4.24651524,  4.82937488,  3.05061463,  6.28436235,  4.40318686,\n        3.0063043 ,  2.96095557,  6.28383767,  8.03767564,  6.25337895,\n        6.06532768,  4.50892197,  5.49320231,  6.41758607,  5.35782237,\n        6.76966252,  4.45400476,  5.31017815,  6.38860951,  5.4754747 ,\n        7.90670898,  2.81936865,  3.01176902,  5.26530983,  4.92975693,\n       -0.13841583,  5.6998305 ,  8.41902273,  1.78078939,  3.5524713 ,\n        5.04196972,  5.5362906 ,  3.11441267,  3.73977361, 11.82600591,\n        7.27090877,  3.83457529,  6.25878942,  5.55507206,  3.49584352,\n        3.94635066,  8.87466917,  4.97931151,  3.6049732 ,  7.58880806,\n        3.61323836,  4.99668732,  4.50818388,  6.37045419,  3.22440976,\n        3.22184208,  6.76968941,  7.253857  ,  3.31845432,  1.24656163,\n        3.84617878,  6.95184972,  4.4773957 ,  4.45503866,  5.37280147,\n        4.1495395 ,  2.46287043,  3.96903944,  2.27950247,  5.93828345,\n        4.88331718,  4.43691699,  5.43828549,  8.47577255,  6.45686833,\n        9.13656491,  3.74862048,  4.31405402,  6.07536692,  5.23652288,\n        5.85994713,  1.31782833,  6.82959837,  5.50851798,  5.27093833,\n        6.89401824,  6.11765099,  4.05670364,  6.42885511,  5.82004345,\n        5.90691482,  6.31143443,  4.73418026,  4.70187167,  2.6883572 ,\n        5.84977638,  4.34881402,  2.96601097,  3.44454672,  5.2316331 ,\n        5.62319493,  7.4131701 ,  3.54923807,  6.52168339,  5.02434783,\n        4.44031898,  7.19422017,  4.02086228,  1.38377804,  6.32948729,\n        1.33729738,  3.25478206,  7.24101082,  4.59913538,  4.25316226,\n        7.76994124,  3.47050656,  5.45162655,  5.56910574,  9.20025813,\n        3.94149177,  4.39606179,  6.6909568 ,  3.47376099,  5.74311341,\n        4.34558372,  1.53172996,  8.24485341,  6.43204654,  5.96196766,\n        4.94478003,  6.34049014,  4.64983232,  7.03746263,  6.53525588,\n        4.04503989,  7.66038384,  5.22779047,  6.70085326,  4.83262732,\n        2.83485968,  3.14407301,  3.72284304,  6.22698771,  6.74327813,\n        8.95302216,  7.85609267,  1.76387958,  1.98132224,  5.08505471,\n        4.39771197,  3.17793265,  2.50467261,  7.14437731,  9.00025478,\n        4.79759047,  4.32426879,  6.02941073,  6.58313131,  6.13042722,\n        2.27168684,  7.34774027,  3.51036329,  6.43208825,  4.37549141,\n        5.83020764,  2.87005112,  7.2628775 ,  3.51136405,  0.19475004,\n        3.22654131,  3.42076908,  3.94521537,  4.78885484,  1.02330658,\n        3.66098708,  3.32455258,  2.02398448,  3.93525615,  3.40527207,\n        8.36510413,  3.35056137,  3.26253974,  4.9626992 ,  3.60045835,\n        4.60597999,  4.79059375,  7.1864249 ,  5.11401252,  2.82100693,\n        1.78399361,  5.25679247,  4.6638262 ,  7.10352047,  5.96193669,\n        6.54763836,  3.72111882,  1.14203845,  4.98434597,  4.29796652,\n        7.63242919,  6.74889376,  6.04871979, 11.34225956,  0.88658821,\n        5.9938552 ,  7.58020068,  4.37535719,  7.98425283,  3.32452114,\n        4.7837558 ,  6.88972781,  3.72364353,  8.69512488,  4.13040362,\n        3.72158546,  4.04261095,  5.2342309 ,  7.10846813,  2.69632539,\n        6.52361747,  2.63171271,  2.33035393,  6.89765545,  7.07843855,\n        5.2898926 ,  8.47728083,  3.85006294,  6.01233359,  5.70687222,\n        6.78897474,  4.75932782,  3.1948048 ,  2.4045387 ,  7.31746447,\n        9.33888304,  3.75397733,  4.0093427 ,  8.35454759,  6.07757803,\n        4.8659237 ,  5.79312696,  6.66570023,  4.34119404,  8.86849648,\n        8.38679256,  1.37290995,  4.04245579,  4.04219267,  4.19627506,\n        3.67663177,  5.88761775,  5.68596763,  4.4390293 ,  5.65617096,\n        4.7271149 ,  2.48018471,  4.30244703,  4.48486685,  4.93884196,\n        6.32521934,  1.77982714,  8.13747608,  1.63906468,  4.38022843])"
     },
     "execution_count": 39,
     "metadata": {},
     "output_type": "execute_result"
    }
   ],
   "source": [
    "data = np.random.normal(loc=5, scale=2, size=1000) #generowanie danych z rozkładu normalnego, średnia = 5, odchylenie standardowe = 2, 1000 próbek\n",
    "data"
   ],
   "metadata": {
    "collapsed": false,
    "ExecuteTime": {
     "end_time": "2024-12-16T19:44:33.995260600Z",
     "start_time": "2024-12-16T19:44:33.942549500Z"
    }
   },
   "id": "55b953fc385f261"
  },
  {
   "cell_type": "code",
   "execution_count": 40,
   "outputs": [
    {
     "data": {
      "text/plain": "5.012752011696073"
     },
     "execution_count": 40,
     "metadata": {},
     "output_type": "execute_result"
    }
   ],
   "source": [
    "sp.stats.tmean(data)  #średnia"
   ],
   "metadata": {
    "collapsed": false,
    "ExecuteTime": {
     "end_time": "2024-12-16T19:44:34.899214600Z",
     "start_time": "2024-12-16T19:44:34.886668600Z"
    }
   },
   "id": "349de1049775e6ef"
  },
  {
   "cell_type": "code",
   "execution_count": 41,
   "outputs": [
    {
     "data": {
      "text/plain": "4.9937602379667325"
     },
     "execution_count": 41,
     "metadata": {},
     "output_type": "execute_result"
    }
   ],
   "source": [
    "np.median(data)  #mediana"
   ],
   "metadata": {
    "collapsed": false,
    "ExecuteTime": {
     "end_time": "2024-12-16T19:44:35.659159700Z",
     "start_time": "2024-12-16T19:44:35.608754Z"
    }
   },
   "id": "8295012e7cd0dc13"
  },
  {
   "cell_type": "code",
   "execution_count": 42,
   "outputs": [
    {
     "data": {
      "text/plain": "1.8513915012848574"
     },
     "execution_count": 42,
     "metadata": {},
     "output_type": "execute_result"
    }
   ],
   "source": [
    "sp.stats.tstd(data)  #odchylenie standardowe"
   ],
   "metadata": {
    "collapsed": false,
    "ExecuteTime": {
     "end_time": "2024-12-16T19:44:40.682197700Z",
     "start_time": "2024-12-16T19:44:40.647513900Z"
    }
   },
   "id": "14dec4b928115b80"
  },
  {
   "cell_type": "raw",
   "source": [
    "Zadanie 4: Interpolacja danych \n",
    "Poniżej podane są dane wejściowe (punkty x i y): \n",
    "x = [0, 1, 2, 3, 4, 5] \n",
    "y = [0, 0.8, 0.9, 0.1, -0.8, -1] \n",
    "Stwórz interpolację liniową dla danych i wygeneruj nowe punkty w zakresie od 0 do 5. Wynik zadania zwizualizuj oraz wykorzystaj moduł scipy.interpolate w celu dopasowywania funkcji do danych.\n"
   ],
   "metadata": {
    "collapsed": false
   },
   "id": "7f01afad2dd76587"
  },
  {
   "cell_type": "code",
   "execution_count": 60,
   "outputs": [
    {
     "data": {
      "text/plain": "           x         y\n0   0.000000  0.000000\n1   0.102041  0.081633\n2   0.204082  0.163265\n3   0.306122  0.244898\n4   0.408163  0.326531\n5   0.510204  0.408163\n6   0.612245  0.489796\n7   0.714286  0.571429\n8   0.816327  0.653061\n9   0.918367  0.734694\n10  1.020408  0.802041\n11  1.122449  0.812245\n12  1.224490  0.822449\n13  1.326531  0.832653\n14  1.428571  0.842857\n15  1.530612  0.853061\n16  1.632653  0.863265\n17  1.734694  0.873469\n18  1.836735  0.883673\n19  1.938776  0.893878\n20  2.040816  0.867347\n21  2.142857  0.785714\n22  2.244898  0.704082\n23  2.346939  0.622449\n24  2.448980  0.540816\n25  2.551020  0.459184\n26  2.653061  0.377551\n27  2.755102  0.295918\n28  2.857143  0.214286\n29  2.959184  0.132653\n30  3.061224  0.044898\n31  3.163265 -0.046939\n32  3.265306 -0.138776\n33  3.367347 -0.230612\n34  3.469388 -0.322449\n35  3.571429 -0.414286\n36  3.673469 -0.506122\n37  3.775510 -0.597959\n38  3.877551 -0.689796\n39  3.979592 -0.781633\n40  4.081633 -0.816327\n41  4.183673 -0.836735\n42  4.285714 -0.857143\n43  4.387755 -0.877551\n44  4.489796 -0.897959\n45  4.591837 -0.918367\n46  4.693878 -0.938776\n47  4.795918 -0.959184\n48  4.897959 -0.979592\n49  5.000000 -1.000000",
      "text/html": "<div>\n<style scoped>\n    .dataframe tbody tr th:only-of-type {\n        vertical-align: middle;\n    }\n\n    .dataframe tbody tr th {\n        vertical-align: top;\n    }\n\n    .dataframe thead th {\n        text-align: right;\n    }\n</style>\n<table border=\"1\" class=\"dataframe\">\n  <thead>\n    <tr style=\"text-align: right;\">\n      <th></th>\n      <th>x</th>\n      <th>y</th>\n    </tr>\n  </thead>\n  <tbody>\n    <tr>\n      <th>0</th>\n      <td>0.000000</td>\n      <td>0.000000</td>\n    </tr>\n    <tr>\n      <th>1</th>\n      <td>0.102041</td>\n      <td>0.081633</td>\n    </tr>\n    <tr>\n      <th>2</th>\n      <td>0.204082</td>\n      <td>0.163265</td>\n    </tr>\n    <tr>\n      <th>3</th>\n      <td>0.306122</td>\n      <td>0.244898</td>\n    </tr>\n    <tr>\n      <th>4</th>\n      <td>0.408163</td>\n      <td>0.326531</td>\n    </tr>\n    <tr>\n      <th>5</th>\n      <td>0.510204</td>\n      <td>0.408163</td>\n    </tr>\n    <tr>\n      <th>6</th>\n      <td>0.612245</td>\n      <td>0.489796</td>\n    </tr>\n    <tr>\n      <th>7</th>\n      <td>0.714286</td>\n      <td>0.571429</td>\n    </tr>\n    <tr>\n      <th>8</th>\n      <td>0.816327</td>\n      <td>0.653061</td>\n    </tr>\n    <tr>\n      <th>9</th>\n      <td>0.918367</td>\n      <td>0.734694</td>\n    </tr>\n    <tr>\n      <th>10</th>\n      <td>1.020408</td>\n      <td>0.802041</td>\n    </tr>\n    <tr>\n      <th>11</th>\n      <td>1.122449</td>\n      <td>0.812245</td>\n    </tr>\n    <tr>\n      <th>12</th>\n      <td>1.224490</td>\n      <td>0.822449</td>\n    </tr>\n    <tr>\n      <th>13</th>\n      <td>1.326531</td>\n      <td>0.832653</td>\n    </tr>\n    <tr>\n      <th>14</th>\n      <td>1.428571</td>\n      <td>0.842857</td>\n    </tr>\n    <tr>\n      <th>15</th>\n      <td>1.530612</td>\n      <td>0.853061</td>\n    </tr>\n    <tr>\n      <th>16</th>\n      <td>1.632653</td>\n      <td>0.863265</td>\n    </tr>\n    <tr>\n      <th>17</th>\n      <td>1.734694</td>\n      <td>0.873469</td>\n    </tr>\n    <tr>\n      <th>18</th>\n      <td>1.836735</td>\n      <td>0.883673</td>\n    </tr>\n    <tr>\n      <th>19</th>\n      <td>1.938776</td>\n      <td>0.893878</td>\n    </tr>\n    <tr>\n      <th>20</th>\n      <td>2.040816</td>\n      <td>0.867347</td>\n    </tr>\n    <tr>\n      <th>21</th>\n      <td>2.142857</td>\n      <td>0.785714</td>\n    </tr>\n    <tr>\n      <th>22</th>\n      <td>2.244898</td>\n      <td>0.704082</td>\n    </tr>\n    <tr>\n      <th>23</th>\n      <td>2.346939</td>\n      <td>0.622449</td>\n    </tr>\n    <tr>\n      <th>24</th>\n      <td>2.448980</td>\n      <td>0.540816</td>\n    </tr>\n    <tr>\n      <th>25</th>\n      <td>2.551020</td>\n      <td>0.459184</td>\n    </tr>\n    <tr>\n      <th>26</th>\n      <td>2.653061</td>\n      <td>0.377551</td>\n    </tr>\n    <tr>\n      <th>27</th>\n      <td>2.755102</td>\n      <td>0.295918</td>\n    </tr>\n    <tr>\n      <th>28</th>\n      <td>2.857143</td>\n      <td>0.214286</td>\n    </tr>\n    <tr>\n      <th>29</th>\n      <td>2.959184</td>\n      <td>0.132653</td>\n    </tr>\n    <tr>\n      <th>30</th>\n      <td>3.061224</td>\n      <td>0.044898</td>\n    </tr>\n    <tr>\n      <th>31</th>\n      <td>3.163265</td>\n      <td>-0.046939</td>\n    </tr>\n    <tr>\n      <th>32</th>\n      <td>3.265306</td>\n      <td>-0.138776</td>\n    </tr>\n    <tr>\n      <th>33</th>\n      <td>3.367347</td>\n      <td>-0.230612</td>\n    </tr>\n    <tr>\n      <th>34</th>\n      <td>3.469388</td>\n      <td>-0.322449</td>\n    </tr>\n    <tr>\n      <th>35</th>\n      <td>3.571429</td>\n      <td>-0.414286</td>\n    </tr>\n    <tr>\n      <th>36</th>\n      <td>3.673469</td>\n      <td>-0.506122</td>\n    </tr>\n    <tr>\n      <th>37</th>\n      <td>3.775510</td>\n      <td>-0.597959</td>\n    </tr>\n    <tr>\n      <th>38</th>\n      <td>3.877551</td>\n      <td>-0.689796</td>\n    </tr>\n    <tr>\n      <th>39</th>\n      <td>3.979592</td>\n      <td>-0.781633</td>\n    </tr>\n    <tr>\n      <th>40</th>\n      <td>4.081633</td>\n      <td>-0.816327</td>\n    </tr>\n    <tr>\n      <th>41</th>\n      <td>4.183673</td>\n      <td>-0.836735</td>\n    </tr>\n    <tr>\n      <th>42</th>\n      <td>4.285714</td>\n      <td>-0.857143</td>\n    </tr>\n    <tr>\n      <th>43</th>\n      <td>4.387755</td>\n      <td>-0.877551</td>\n    </tr>\n    <tr>\n      <th>44</th>\n      <td>4.489796</td>\n      <td>-0.897959</td>\n    </tr>\n    <tr>\n      <th>45</th>\n      <td>4.591837</td>\n      <td>-0.918367</td>\n    </tr>\n    <tr>\n      <th>46</th>\n      <td>4.693878</td>\n      <td>-0.938776</td>\n    </tr>\n    <tr>\n      <th>47</th>\n      <td>4.795918</td>\n      <td>-0.959184</td>\n    </tr>\n    <tr>\n      <th>48</th>\n      <td>4.897959</td>\n      <td>-0.979592</td>\n    </tr>\n    <tr>\n      <th>49</th>\n      <td>5.000000</td>\n      <td>-1.000000</td>\n    </tr>\n  </tbody>\n</table>\n</div>"
     },
     "execution_count": 60,
     "metadata": {},
     "output_type": "execute_result"
    }
   ],
   "source": [
    "#dane wejściowe\n",
    "x = np.array([0, 1, 2, 3, 4, 5])\n",
    "y = np.array([0, 0.8, 0.9, 0.1, -0.8, -1])\n",
    "linear_interpolation = sp.interpolate.interp1d(x, y, kind='linear') #tworzenie interpolacji liniowej\n",
    "#generowanie nowych stu punktów w zakresie 0 - 5\n",
    "x_new = np.linspace(0, 5)\n",
    "y_new = linear_interpolation(x_new)\n",
    "interp_coordinates = pd.DataFrame({\"x\": x_new, \"y\": y_new}) #utworzenie df dla estetycznego wyświetlenia współrzędnych\n",
    "interp_coordinates"
   ],
   "metadata": {
    "collapsed": false,
    "ExecuteTime": {
     "end_time": "2024-12-16T20:01:39.067534500Z",
     "start_time": "2024-12-16T20:01:39.036538300Z"
    }
   },
   "id": "66c96ff52e861560"
  },
  {
   "cell_type": "markdown",
   "source": [
    "Współrzędne punktów do interpolacji"
   ],
   "metadata": {
    "collapsed": false
   },
   "id": "531c3712643f9004"
  },
  {
   "cell_type": "code",
   "execution_count": 61,
   "outputs": [
    {
     "data": {
      "text/plain": "<Figure size 800x600 with 1 Axes>",
      "image/png": "[encoded data removed]"
     },
     "metadata": {},
     "output_type": "display_data"
    }
   ],
   "source": [
    "#wizualizacja wyników\n",
    "plt.figure(figsize=(8, 6))\n",
    "plt.plot(x, y, 'o', label=\"Dane wejściowe\")  #oryginalne punkty\n",
    "plt.plot(x_new, y_new, '-', label=\"Interpolacja liniowa\")  #interpolacja\n",
    "plt.xlabel(\"x\")\n",
    "plt.ylabel(\"y\")\n",
    "plt.title(\"Interpolacja liniowa\")\n",
    "plt.legend()\n",
    "plt.grid(True)\n",
    "plt.show()"
   ],
   "metadata": {
    "collapsed": false,
    "ExecuteTime": {
     "end_time": "2024-12-16T20:01:45.065087700Z",
     "start_time": "2024-12-16T20:01:44.918536900Z"
    }
   },
   "id": "2fd173b544d96357"
  },
  {
   "cell_type": "markdown",
   "id": "4f1659c0-afb1-4358-8d5c-b667766e6dd7",
   "metadata": {},
   "source": [
    "### Wnioski"
   ]
  },
  {
   "cell_type": "markdown",
   "source": [
    "Dzięki laboratorium poznałem podstawowe funkcje biblioteki Scipy, a także miałem okazję przećwiczyć wizualizację danych z wykorzystaniem biblioteki matplotlib."
   ],
   "metadata": {
    "collapsed": false
   },
   "id": "e118c442f1b63f9f"
  },
  {
   "cell_type": "code",
   "execution_count": null,
   "outputs": [],
   "source": [],
   "metadata": {
    "collapsed": false
   },
   "id": "ad07932d59e2ce8f"
  }
 ],
 "metadata": {
  "kernelspec": {
   "display_name": "Python 3 (ipykernel)",
   "language": "python",
   "name": "python3"
  },
  "language_info": {
   "codemirror_mode": {
    "name": "ipython",
    "version": 3
   },
   "file_extension": ".py",
   "mimetype": "text/x-python",
   "name": "python",
   "nbconvert_exporter": "python",
   "pygments_lexer": "ipython3",
   "version": "3.11.10"
  }
 },
 "nbformat": 4,
 "nbformat_minor": 5
}
