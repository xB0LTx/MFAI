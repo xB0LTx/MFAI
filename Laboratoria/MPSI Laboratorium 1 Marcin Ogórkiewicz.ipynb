{
 "cells": [
  {
   "cell_type": "markdown",
   "id": "43d4b958-ceab-4c6e-9156-ec3b7f4371fd",
   "metadata": {},
   "source": [
    "# Laboratorium 1 : Wprowadzenie do NumPy – podstawowe operacje i porównanie z listami Pythonowymi"
   ]
  },
  {
   "cell_type": "markdown",
   "id": "20933a64-3d4d-49f5-a11f-fd9e07a3bf97",
   "metadata": {},
   "source": [
    "## Marcin Ogórkiewicz 120674, grupa 1"
   ]
  },
  {
   "cell_type": "markdown",
   "id": "3fe5a2f3-926d-4ead-ae4a-2f247cffd7ad",
   "metadata": {},
   "source": [
    "### Zadanie 1"
   ]
  },
  {
   "cell_type": "code",
   "execution_count": 1,
   "id": "2b2539e0-bad1-49bf-9ef9-5bd40fb03016",
   "metadata": {
    "ExecuteTime": {
     "end_time": "2024-12-12T09:35:23.127770800Z",
     "start_time": "2024-12-12T09:35:22.464757700Z"
    }
   },
   "outputs": [],
   "source": [
    "import numpy as np\n",
    "import time as t\n",
    "\n",
    "python_list = list(range(1000)) #tworzenie listy zawierającej 1000 elementów\n",
    "pyton_list_sum = sum(python_list) #suma elementów listy\n",
    "python_list_mul = [x * 2 for x in python_list] #mnożenie każdego elementu listy przez 2\n",
    "np_array = np.arange(1000) #tworzenie tablicy numpy zawierającej 1000 elementów\n",
    "np_array_sum = np.sum(np_array) #suma elementów tablicy\n",
    "np_array_mul = np_array * 2 #mnożenie każdego elementu tablicy przez 2"
   ]
  },
  {
   "cell_type": "markdown",
   "id": "bce66170-08af-4d92-80a6-15afd3427f18",
   "metadata": {},
   "source": [
    "### Zadanie 2"
   ]
  },
  {
   "cell_type": "markdown",
   "id": "73bff05e-4dee-4ae2-836e-2ef0f7f5ee93",
   "metadata": {},
   "source": [
    "Czas sumowania elementów listy"
   ]
  },
  {
   "cell_type": "code",
   "execution_count": 20,
   "id": "be0bd6ca-f997-4b0f-9c41-f5b47a95c10c",
   "metadata": {
    "ExecuteTime": {
     "end_time": "2024-12-12T09:58:31.089228900Z",
     "start_time": "2024-12-12T09:58:30.990714400Z"
    }
   },
   "outputs": [
    {
     "data": {
      "text/plain": "'0.00032270 s'"
     },
     "execution_count": 20,
     "metadata": {},
     "output_type": "execute_result"
    }
   ],
   "source": [
    "list_sum_start = t.perf_counter() #start pomiaru czasu\n",
    "python_list_sum = sum(python_list) #suma elementów listy\n",
    "list_sum_stop = t.perf_counter() #koniec pomiaru czasu\n",
    "list_sum_elapsed = list_sum_stop - list_sum_start #obliczenie czasu potrzebnego do wykonania operacji \n",
    "f'{list_sum_elapsed:.8f} s' #sformatowany czas; float, 8 miejsc po przecinku"
   ]
  },
  {
   "cell_type": "markdown",
   "id": "4e564edc-53f5-4e74-9c83-acce3cabf524",
   "metadata": {},
   "source": [
    "Czas mnożenia elementów listy"
   ]
  },
  {
   "cell_type": "code",
   "execution_count": 21,
   "id": "bcd74f6d-58aa-46dc-8703-a7e25bb018e6",
   "metadata": {
    "ExecuteTime": {
     "end_time": "2024-12-12T09:58:33.942749900Z",
     "start_time": "2024-12-12T09:58:33.906699900Z"
    }
   },
   "outputs": [
    {
     "data": {
      "text/plain": "'0.00020890 s'"
     },
     "execution_count": 21,
     "metadata": {},
     "output_type": "execute_result"
    }
   ],
   "source": [
    "list_mul_start = t.perf_counter() #start pomiaru czasu\n",
    "python_list_mul = [x * 2 for x in python_list] #mnożenie każdego elementu listy przez 2\n",
    "list_mul_stop = t.perf_counter() #koniec pomiaru czasu\n",
    "list_mul_elapsed = list_mul_stop - list_mul_start #obliczenie czasu potrzebnego do wykonania operacji\n",
    "f'{list_mul_elapsed:.8f} s' #sformatowany czas; float, 8 miejsc po przecinku"
   ]
  },
  {
   "cell_type": "markdown",
   "id": "578e8ed4-70e2-4436-b37b-baecd88868f6",
   "metadata": {},
   "source": [
    "Czas sumowania elementów tablicy"
   ]
  },
  {
   "cell_type": "code",
   "execution_count": 22,
   "id": "97a71d18-550b-4ce5-a824-21b268706d3d",
   "metadata": {
    "ExecuteTime": {
     "end_time": "2024-12-12T09:58:35.185030100Z",
     "start_time": "2024-12-12T09:58:35.155491100Z"
    }
   },
   "outputs": [
    {
     "data": {
      "text/plain": "'0.00016080 s'"
     },
     "execution_count": 22,
     "metadata": {},
     "output_type": "execute_result"
    }
   ],
   "source": [
    "array_sum_start = t.perf_counter() #start pomiaru czasu\n",
    "np_array_sum = np.sum(np_array) #suma elementów tablicy\n",
    "array_sum_stop = t.perf_counter() #koniec pomiaru czasu\n",
    "array_sum_elapsed = array_sum_stop - array_sum_start #obliczenie czasu potrzebnego do wykonania operacji\n",
    "f'{array_sum_elapsed:.8f} s' #sformatowany czas; float, 8 miejsc po przecinku"
   ]
  },
  {
   "cell_type": "markdown",
   "id": "3182fa66-4cb5-400b-8fc2-f580bf10fa47",
   "metadata": {},
   "source": [
    "Czas mnożenia elementów tablicy"
   ]
  },
  {
   "cell_type": "code",
   "execution_count": 23,
   "id": "cff2fc0b-ab17-43c1-973c-3393930f7685",
   "metadata": {
    "ExecuteTime": {
     "end_time": "2024-12-12T09:58:36.583002100Z",
     "start_time": "2024-12-12T09:58:36.534487500Z"
    }
   },
   "outputs": [
    {
     "data": {
      "text/plain": "'0.00012330 s'"
     },
     "execution_count": 23,
     "metadata": {},
     "output_type": "execute_result"
    }
   ],
   "source": [
    "array_mul_start = t.perf_counter() #start pomiaru czasu\n",
    "np_array_mul = np_array * 2 #mnożenie każdego elementu tablicy przez 2\n",
    "array_mul_stop = t.perf_counter() #koniec pomiaru czasu\n",
    "array_mul_elapsed = array_mul_stop - array_mul_start #obliczenie czasu potrzebnego do wykonania operacji\n",
    "f'{array_mul_elapsed:.8f} s' #sformatowany czas; float, 8 miejsc po przecinku"
   ]
  },
  {
   "cell_type": "markdown",
   "id": "8b2267c5-5a93-4788-91d6-9a54c881887b",
   "metadata": {},
   "source": [
    "### Zadanie 3"
   ]
  },
  {
   "cell_type": "code",
   "execution_count": 14,
   "outputs": [
    {
     "data": {
      "text/plain": "200"
     },
     "execution_count": 14,
     "metadata": {},
     "output_type": "execute_result"
    }
   ],
   "source": [
    "matrix_2 = np.full((10, 10), 2) #stworzenie macierzy wypełnionej dwójkami\n",
    "matrix_4 = np.full((10, 10), 4) #stworzenie macierzy wypełnionej czwórkami\n",
    "suma = np.sum(matrix_2) # Sumowanie macierzy \n",
    "suma"
   ],
   "metadata": {
    "collapsed": false,
    "ExecuteTime": {
     "end_time": "2024-12-12T09:52:22.058986300Z",
     "start_time": "2024-12-12T09:52:22.023989900Z"
    }
   },
   "id": "55b953fc385f261"
  },
  {
   "cell_type": "code",
   "execution_count": 15,
   "outputs": [
    {
     "data": {
      "text/plain": "array([[8, 8, 8, 8, 8, 8, 8, 8, 8, 8],\n       [8, 8, 8, 8, 8, 8, 8, 8, 8, 8],\n       [8, 8, 8, 8, 8, 8, 8, 8, 8, 8],\n       [8, 8, 8, 8, 8, 8, 8, 8, 8, 8],\n       [8, 8, 8, 8, 8, 8, 8, 8, 8, 8],\n       [8, 8, 8, 8, 8, 8, 8, 8, 8, 8],\n       [8, 8, 8, 8, 8, 8, 8, 8, 8, 8],\n       [8, 8, 8, 8, 8, 8, 8, 8, 8, 8],\n       [8, 8, 8, 8, 8, 8, 8, 8, 8, 8],\n       [8, 8, 8, 8, 8, 8, 8, 8, 8, 8]])"
     },
     "execution_count": 15,
     "metadata": {},
     "output_type": "execute_result"
    }
   ],
   "source": [
    "matrix_2 * matrix_4 # Mnożenie macierzy "
   ],
   "metadata": {
    "collapsed": false,
    "ExecuteTime": {
     "end_time": "2024-12-12T09:52:22.844838900Z",
     "start_time": "2024-12-12T09:52:22.821846Z"
    }
   },
   "id": "349de1049775e6ef"
  },
  {
   "cell_type": "markdown",
   "id": "a047cd49-9d7e-4639-8f52-40af63aa886f",
   "metadata": {},
   "source": [
    "### Zadanie 4"
   ]
  },
  {
   "cell_type": "markdown",
   "source": [
    "Czas sumowania elementów listy"
   ],
   "metadata": {
    "collapsed": false
   },
   "id": "acaad987237d9531"
  },
  {
   "cell_type": "code",
   "execution_count": 28,
   "outputs": [
    {
     "data": {
      "text/plain": "'0.06117280 s'"
     },
     "execution_count": 28,
     "metadata": {},
     "output_type": "execute_result"
    }
   ],
   "source": [
    "big_python_list = list(range(1000000)) # Stworzenie listy 1000000 elementów\n",
    "list_sum_start = t.perf_counter() #start pomiaru czasu\n",
    "big_python_list_sum = sum(big_python_list) #suma elementów listy\n",
    "list_sum_stop = t.perf_counter() #koniec pomiaru czasu\n",
    "list_sum_elapsed = list_sum_stop - list_sum_start #obliczenie czasu potrzebnego do wykonania operacji \n",
    "f'{list_sum_elapsed:.8f} s' #sformatowany czas; float, 8 miejsc po przecinku"
   ],
   "metadata": {
    "collapsed": false,
    "ExecuteTime": {
     "end_time": "2024-12-12T10:08:43.950528700Z",
     "start_time": "2024-12-12T10:08:43.766218300Z"
    }
   },
   "id": "b2eb32f402a95248"
  },
  {
   "cell_type": "markdown",
   "source": [
    "Czas mnożenia elementów listy"
   ],
   "metadata": {
    "collapsed": false
   },
   "id": "1a7ff1a6ea4b6d77"
  },
  {
   "cell_type": "code",
   "execution_count": 29,
   "outputs": [
    {
     "data": {
      "text/plain": "'0.26404630 s'"
     },
     "execution_count": 29,
     "metadata": {},
     "output_type": "execute_result"
    }
   ],
   "source": [
    "list_mul_start = t.perf_counter() #start pomiaru czasu\n",
    "big_python_list_mul = [x * 2 for x in big_python_list] #mnożenie każdego elementu listy przez 2\n",
    "list_mul_stop = t.perf_counter() #koniec pomiaru czasu\n",
    "list_mul_elapsed = list_mul_stop - list_mul_start #obliczenie czasu potrzebnego do wykonania operacji\n",
    "f'{list_mul_elapsed:.8f} s' #sformatowany czas; float, 8 miejsc po przecinku"
   ],
   "metadata": {
    "collapsed": false,
    "ExecuteTime": {
     "end_time": "2024-12-12T10:08:44.487116400Z",
     "start_time": "2024-12-12T10:08:44.186433Z"
    }
   },
   "id": "c8e33553a84a461c"
  },
  {
   "cell_type": "markdown",
   "source": [
    "Czas sumowania elementów tablicy"
   ],
   "metadata": {
    "collapsed": false
   },
   "id": "5abb42189b0760ec"
  },
  {
   "cell_type": "code",
   "execution_count": 30,
   "outputs": [
    {
     "data": {
      "text/plain": "'0.00160340 s'"
     },
     "execution_count": 30,
     "metadata": {},
     "output_type": "execute_result"
    }
   ],
   "source": [
    "big_np_array = np.arange(1000000) # Stworzenie tablicy z 1000000 elementów\n",
    "array_sum_start = t.perf_counter() #start pomiaru czasu\n",
    "big_np_array_sum = np.sum(big_np_array) #suma elementów tablicy\n",
    "array_sum_stop = t.perf_counter() #koniec pomiaru czasu\n",
    "array_sum_elapsed = array_sum_stop - array_sum_start #obliczenie czasu potrzebnego do wykonania operacji\n",
    "f'{array_sum_elapsed:.8f} s' #sformatowany czas; float, 8 miejsc po przecinku"
   ],
   "metadata": {
    "collapsed": false,
    "ExecuteTime": {
     "end_time": "2024-12-12T10:08:44.795417400Z",
     "start_time": "2024-12-12T10:08:44.689826300Z"
    }
   },
   "id": "f58d90934778db11"
  },
  {
   "cell_type": "markdown",
   "source": [
    "Czas mnożenia elementów tablicy"
   ],
   "metadata": {
    "collapsed": false
   },
   "id": "d98100c3301eb9b8"
  },
  {
   "cell_type": "code",
   "execution_count": 31,
   "outputs": [
    {
     "data": {
      "text/plain": "'0.00246380 s'"
     },
     "execution_count": 31,
     "metadata": {},
     "output_type": "execute_result"
    }
   ],
   "source": [
    "array_mul_start = t.perf_counter() #start pomiaru czasu\n",
    "big_np_array_mul = big_np_array * 2 #mnożenie każdego elementu tablicy przez 2\n",
    "array_mul_stop = t.perf_counter() #koniec pomiaru czasu\n",
    "array_mul_elapsed = array_mul_stop - array_mul_start #obliczenie czasu potrzebnego do wykonania operacji\n",
    "f'{array_mul_elapsed:.8f} s' #sformatowany czas; float, 8 miejsc po przecinku"
   ],
   "metadata": {
    "collapsed": false,
    "ExecuteTime": {
     "end_time": "2024-12-12T10:08:45.512349700Z",
     "start_time": "2024-12-12T10:08:45.484350400Z"
    }
   },
   "id": "451c0e08d6ae6d2b"
  },
  {
   "cell_type": "markdown",
   "source": [
    "Wyniki pomiarów:\n",
    "\n",
    "Lista 1 000 elementów:\n",
    "Suma: 0.00032270 s\n",
    "Mnożenie: 0.00020890 s\n",
    "\n",
    "Tablica 1 000 elementów:\n",
    "Suma: 0.00016080 s\n",
    "Mnożenie: 0.00012330 s\n",
    "\n",
    "Lista 1 000 000 elementów:\n",
    "Suma: 0.06117280 s\n",
    "Mnożenie: 0.26404630 s\n",
    "\n",
    "Tablica 1 000 000 elementów:\n",
    "Suma: 0.00160340 s\n",
    "Mnożenie: 0.00246380 s"
   ],
   "metadata": {
    "collapsed": false
   },
   "id": "c95f4b70e2c4a4f9"
  },
  {
   "cell_type": "markdown",
   "source": [
    "Czy różnice w czasie działania są zauważalne przy małych rozmiarach danych?\n",
    "\n",
    "Różnice w czasie działania nie są zauważalne przy małych rozmiarach danych, aczkolwiek pomiary sugerują, że im bardziej skomplikowana operacja oraz większy zbiór, tym bardziej zwiększa się rozbieżność w czasie potrzebnym na ukończenie operacji. Wtedy numpy prezentuje o wiele większą wydajność."
   ],
   "metadata": {
    "collapsed": false
   },
   "id": "7b1c5de86f34783f"
  },
  {
   "cell_type": "markdown",
   "source": [
    "Jak zmienia się czas działania w miarę zwiększania rozmiaru danych?\n",
    "\n",
    "Dla list, tysiąckrotnie większy zbiór spowodował, w wypadku dodawania - ponad stukrotne wydłużenie czasu działania, a przy mnożeniu aż tysiąckrotne. Tablice są o wiele wydajniejsze, takie samo zwiększenie liczbności zbioru spowodowało około dziesięciokrotnie dłuższy czas wykonywania."
   ],
   "metadata": {
    "collapsed": false
   },
   "id": "4e0b81ecae5b2109"
  },
  {
   "cell_type": "markdown",
   "source": [
    "Jakie inne zalety NumPy można wskazać, oprócz wydajności?\n",
    "\n",
    "- NumPy pozwala na łatwe wykonywanie matematycznych operacji na całych tablicach, takich jak dodawanie, mnożenie, transponowanie, operacje algebraiczne i macierzowe.\n",
    "\n",
    "- NumPy jest podstawą dla wielu innych popularnych bibliotek w Pythonie, takich jak Pandas, SciPy, scikit-learn czy TensorFlow, co ułatwia integrację różnych narzędzi w jednym projekcie. Współpraca NumPy z tymi bibliotekami umożliwia tworzenie zaawansowanych aplikacji w dziedzinie analizy danych i uczenia maszynowego.\n",
    "\n",
    "- NumPy ma prostą składnię.\n",
    "\n",
    "- NumPy pozwala na tworzenie tablic o różnych typach danych, w tym liczb całkowitych, zmiennoprzecinkowych, logicznych, a także typów zdefiniowanych przez użytkownika."
   ],
   "metadata": {
    "collapsed": false
   },
   "id": "927bd075b4870f6a"
  },
  {
   "cell_type": "markdown",
   "id": "4f1659c0-afb1-4358-8d5c-b667766e6dd7",
   "metadata": {},
   "source": [
    "### Wnioski"
   ]
  },
  {
   "cell_type": "markdown",
   "source": [
    "Dzięki laboratorium miałem okazję zbadać wydajność biblioteki NumPy. Nie spodziewałem się, że różnice w wydajności między operacjami na tablicach i listach są aż tak duże. Uświadomiło mi to, jak ważne jest korzystanie z tablic przy pracy na wielkich zbiorach danych. Dowiedziałem się również, że biblioteki, z których korzystałem na projekcie z podstaw sztucznej inteligencji bazują na NumPy. Poza tym, miałem okazję przećwiczyć korzystanie z różnych funkcji NumPy."
   ],
   "metadata": {
    "collapsed": false
   },
   "id": "e118c442f1b63f9f"
  },
  {
   "cell_type": "code",
   "execution_count": null,
   "outputs": [],
   "source": [],
   "metadata": {
    "collapsed": false
   },
   "id": "ad07932d59e2ce8f"
  }
 ],
 "metadata": {
  "kernelspec": {
   "display_name": "Python 3 (ipykernel)",
   "language": "python",
   "name": "python3"
  },
  "language_info": {
   "codemirror_mode": {
    "name": "ipython",
    "version": 3
   },
   "file_extension": ".py",
   "mimetype": "text/x-python",
   "name": "python",
   "nbconvert_exporter": "python",
   "pygments_lexer": "ipython3",
   "version": "3.11.10"
  }
 },
 "nbformat": 4,
 "nbformat_minor": 5
}
