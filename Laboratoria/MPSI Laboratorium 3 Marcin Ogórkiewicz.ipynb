{
 "cells": [
  {
   "cell_type": "markdown",
   "id": "43d4b958-ceab-4c6e-9156-ec3b7f4371fd",
   "metadata": {},
   "source": [
    "# Laboratorium 3 : Zaawansowane funkcje w NumPy"
   ]
  },
  {
   "cell_type": "markdown",
   "id": "20933a64-3d4d-49f5-a11f-fd9e07a3bf97",
   "metadata": {},
   "source": [
    "## Marcin Ogórkiewicz 120674, grupa 1"
   ]
  },
  {
   "cell_type": "markdown",
   "id": "3fe5a2f3-926d-4ead-ae4a-2f247cffd7ad",
   "metadata": {},
   "source": [
    "### Zadanie 1.\tFunkcje agregujące i statystyki\n",
    "a.\tWygeneruj tablicę 10 x 10 z losowymi wartościami z zakresu od 1 do 100.\n",
    "b.\tOblicz sumę wszystkich elementów w tablicy.\n",
    "c.\tOblicz średnią, maksymalną, minimalną wartość oraz odchylenie standardowe dla całej tablicy.\n",
    "d.\tOblicz średnią dla każdego wiersza i dla każdej kolumny.\n"
   ]
  },
  {
   "cell_type": "code",
   "execution_count": 4,
   "id": "2b2539e0-bad1-49bf-9ef9-5bd40fb03016",
   "metadata": {
    "ExecuteTime": {
     "end_time": "2024-12-16T16:42:00.134800500Z",
     "start_time": "2024-12-16T16:42:00.101015400Z"
    }
   },
   "outputs": [
    {
     "data": {
      "text/plain": "array([[99.87201939, 72.06008454, 68.27986813, 53.46519367, 40.45371168,\n        92.51322546, 78.4577423 , 88.03932812, 86.66363499, 52.94075267],\n       [24.88309227, 48.96326765, 36.72648942, 46.80841313, 71.31347684,\n        24.30814719, 48.36195366, 79.78966998, 64.39608837, 51.8550541 ],\n       [38.60815686, 56.70841567, 89.35057841,  8.15547306, 55.77683559,\n        84.91437395, 81.22679807, 13.06799988, 77.36698766, 90.60998327],\n       [57.35520591, 36.4817991 , 51.07072439, 26.80943661, 84.6458232 ,\n        99.03262174, 54.57062551, 55.3092614 , 76.39693037, 86.8920992 ],\n       [75.7655043 , 50.3888743 , 53.89202192, 20.04372759, 69.20402015,\n        79.6276259 , 34.0775795 , 68.97113132, 37.32644045, 42.16741418],\n       [98.62947094, 25.19820712, 77.79306209, 27.45238739, 30.77420019,\n        42.50603459, 53.04612799, 48.74606799, 31.25714768, 46.87224353],\n       [19.67111642,  7.18575271,  7.63439466, 93.67867932, 78.31190105,\n        73.85775006, 76.71516367, 48.60235205, 62.2540154 , 22.71411033],\n       [90.11608497, 54.99267892, 98.71316674, 47.09197911,  3.26031642,\n        38.20285156, 35.86821677, 24.6516181 , 15.95990624, 71.08704261],\n       [77.79586649, 85.89654819, 11.88382566, 12.20918261, 98.9817292 ,\n        42.54894234, 23.55539592, 12.12636172, 86.74143726, 66.53792667],\n       [49.96969679, 85.9097622 , 86.91800741, 86.5192556 , 38.83829099,\n         3.58530821, 80.44077384, 57.52622443, 58.49538143, 84.99928665]])"
     },
     "execution_count": 4,
     "metadata": {},
     "output_type": "execute_result"
    }
   ],
   "source": [
    "import numpy as np\n",
    "\n",
    "#a.\n",
    "array10x10 = np.random.uniform(1, 101, (10, 10)) #tablica o wymiarach 3x3x3 wypełniona losowymi liczbami z zakresu 1 - 100\n",
    "array10x10"
   ]
  },
  {
   "cell_type": "code",
   "execution_count": 5,
   "outputs": [
    {
     "data": {
      "text/plain": "5590.288933233322"
     },
     "execution_count": 5,
     "metadata": {},
     "output_type": "execute_result"
    }
   ],
   "source": [
    "#b.\n",
    "array10x10.sum() #suma elementów tablicy"
   ],
   "metadata": {
    "collapsed": false,
    "ExecuteTime": {
     "end_time": "2024-12-16T16:42:01.145488400Z",
     "start_time": "2024-12-16T16:42:01.125405400Z"
    }
   },
   "id": "307300ef9ea9992f"
  },
  {
   "cell_type": "code",
   "execution_count": 6,
   "outputs": [
    {
     "data": {
      "text/plain": "55.90288933233322"
     },
     "execution_count": 6,
     "metadata": {},
     "output_type": "execute_result"
    }
   ],
   "source": [
    "#c.\n",
    "array10x10.mean() #średnia wartość elementów tablicy"
   ],
   "metadata": {
    "collapsed": false,
    "ExecuteTime": {
     "end_time": "2024-12-16T16:42:02.090794200Z",
     "start_time": "2024-12-16T16:42:02.062067300Z"
    }
   },
   "id": "84b2a17d19198fce"
  },
  {
   "cell_type": "code",
   "execution_count": 7,
   "outputs": [
    {
     "data": {
      "text/plain": "99.87201939482215"
     },
     "execution_count": 7,
     "metadata": {},
     "output_type": "execute_result"
    }
   ],
   "source": [
    "array10x10.max() #wartość maksymalna elementów tablicy"
   ],
   "metadata": {
    "collapsed": false,
    "ExecuteTime": {
     "end_time": "2024-12-16T16:43:53.959205200Z",
     "start_time": "2024-12-16T16:43:53.913571700Z"
    }
   },
   "id": "92d4651fa9388f42"
  },
  {
   "cell_type": "code",
   "execution_count": 8,
   "outputs": [
    {
     "data": {
      "text/plain": "3.260316415968733"
     },
     "execution_count": 8,
     "metadata": {},
     "output_type": "execute_result"
    }
   ],
   "source": [
    "array10x10.min() #wartość minimalna elementów tablicy"
   ],
   "metadata": {
    "collapsed": false,
    "ExecuteTime": {
     "end_time": "2024-12-16T16:43:54.150765500Z",
     "start_time": "2024-12-16T16:43:54.124517900Z"
    }
   },
   "id": "a1dea90294a3b3d0"
  },
  {
   "cell_type": "code",
   "execution_count": 9,
   "outputs": [
    {
     "data": {
      "text/plain": "26.639546551044187"
     },
     "execution_count": 9,
     "metadata": {},
     "output_type": "execute_result"
    }
   ],
   "source": [
    "array10x10.std() #odchylenie standardowe elementów tablicy"
   ],
   "metadata": {
    "collapsed": false,
    "ExecuteTime": {
     "end_time": "2024-12-16T16:43:54.478177400Z",
     "start_time": "2024-12-16T16:43:54.429948100Z"
    }
   },
   "id": "5afe9b9516b1ae61"
  },
  {
   "cell_type": "code",
   "execution_count": 11,
   "outputs": [
    {
     "data": {
      "text/plain": "array([73.2745561 , 49.74056526, 59.57856024, 62.85645274, 53.14643396,\n       48.22749495, 49.06252357, 47.99438614, 51.8277216 , 63.32019876])"
     },
     "execution_count": 11,
     "metadata": {},
     "output_type": "execute_result"
    }
   ],
   "source": [
    "#d.\n",
    "np.mean(array10x10, axis=1) #średnia wartość elementów każdego wiersza"
   ],
   "metadata": {
    "collapsed": false,
    "ExecuteTime": {
     "end_time": "2024-12-16T16:53:52.218617500Z",
     "start_time": "2024-12-16T16:53:52.195743Z"
    }
   },
   "id": "b0fd5750de0dbdb3"
  },
  {
   "cell_type": "code",
   "execution_count": 12,
   "outputs": [
    {
     "data": {
      "text/plain": "array([63.26662143, 52.37853904, 58.22621388, 42.22337281, 57.15603053,\n       58.1096881 , 56.63203772, 49.6830015 , 59.68579699, 61.66759132])"
     },
     "execution_count": 12,
     "metadata": {},
     "output_type": "execute_result"
    }
   ],
   "source": [
    "np.mean(array10x10, axis=0) #średnia wartość elementów każdej kolumny"
   ],
   "metadata": {
    "collapsed": false,
    "ExecuteTime": {
     "end_time": "2024-12-16T16:53:53.236633700Z",
     "start_time": "2024-12-16T16:53:53.163271200Z"
    }
   },
   "id": "2eae883e70068da6"
  },
  {
   "cell_type": "markdown",
   "id": "bce66170-08af-4d92-80a6-15afd3427f18",
   "metadata": {},
   "source": [
    "### Zadanie 2.\tBroadcasting\n",
    "a.\tUtwórz tablicę 5 x 5 z losowymi liczbami z zakresu od 1 do 10.\n",
    "b.\tUtwórz wektor o długości 5 z wartościami od 10 do 50.\n",
    "c.\tWykonaj operację dodawania, gdzie każdy wiersz w tablicy zostanie zwiększony o odpowiednią wartość z wektora.\n"
   ]
  },
  {
   "cell_type": "code",
   "execution_count": 13,
   "id": "be0bd6ca-f997-4b0f-9c41-f5b47a95c10c",
   "metadata": {
    "ExecuteTime": {
     "end_time": "2024-12-16T17:04:18.016061500Z",
     "start_time": "2024-12-16T17:04:18.002103200Z"
    }
   },
   "outputs": [
    {
     "data": {
      "text/plain": "array([[ 5.59749558,  2.79101285,  4.18120221,  2.62487318,  6.32502022],\n       [ 1.46076356,  9.50757271,  2.84068071,  5.13686423,  3.71611465],\n       [ 8.52399895,  4.0645145 , 10.52495671,  1.74213661,  6.28072455],\n       [ 7.95170929,  2.60078094,  9.47661559,  6.88327586,  4.77434747],\n       [ 2.06267013,  4.69014526, 10.21896332,  5.99156098,  6.14727886]])"
     },
     "execution_count": 13,
     "metadata": {},
     "output_type": "execute_result"
    }
   ],
   "source": [
    "#a.\n",
    "array5x5 = np.random.uniform(1, 11, (5, 5)) #tablica o wymiarach 3x3x3 wypełniona losowymi liczbami z zakresu 1 - 100\n",
    "array5x5"
   ]
  },
  {
   "cell_type": "code",
   "execution_count": 14,
   "outputs": [
    {
     "data": {
      "text/plain": "array([[13.33884754, 35.76510132, 43.18395679, 38.81610615, 36.6296611 ]])"
     },
     "execution_count": 14,
     "metadata": {},
     "output_type": "execute_result"
    }
   ],
   "source": [
    "#b.\n",
    "vector5 = np.random.uniform(10, 51, (1, 5)) #tablica o wymiarach 3x3x3 wypełniona losowymi liczbami z zakresu 1 - 100\n",
    "vector5"
   ],
   "metadata": {
    "collapsed": false,
    "ExecuteTime": {
     "end_time": "2024-12-16T17:05:43.019251100Z",
     "start_time": "2024-12-16T17:05:42.980055300Z"
    }
   },
   "id": "3446f26ed8872f4a"
  },
  {
   "cell_type": "code",
   "execution_count": 15,
   "id": "bcd74f6d-58aa-46dc-8703-a7e25bb018e6",
   "metadata": {
    "ExecuteTime": {
     "end_time": "2024-12-16T17:07:07.954157300Z",
     "start_time": "2024-12-16T17:07:07.932086600Z"
    }
   },
   "outputs": [
    {
     "data": {
      "text/plain": "array([[18.93634312, 38.55611417, 47.365159  , 41.44097932, 42.95468133],\n       [14.7996111 , 45.27267403, 46.0246375 , 43.95297038, 40.34577575],\n       [21.86284649, 39.82961582, 53.7089135 , 40.55824276, 42.91038565],\n       [21.29055683, 38.36588226, 52.66057238, 45.69938201, 41.40400858],\n       [15.40151767, 40.45524658, 53.40292011, 44.80766712, 42.77693997]])"
     },
     "execution_count": 15,
     "metadata": {},
     "output_type": "execute_result"
    }
   ],
   "source": [
    "#c.\n",
    "np.add(array5x5, vector5) #dodanie wartości vector5 do każdego wiersza array5x5"
   ]
  },
  {
   "cell_type": "markdown",
   "id": "8b2267c5-5a93-4788-91d6-9a54c881887b",
   "metadata": {},
   "source": [
    "### Zadanie 3.\tGenerowanie losowych danych i analiza danych testowych\n",
    "a.\tUtwórz tablicę 1000 x 3 z losowymi wartościami z rozkładu normalnego (średnia 50, odchylenie standardowe 10).\n",
    "b.\tOblicz średnią, medianę, odchylenie standardowe dla każdej kolumny (reprezentujących np. trzy różne testy).\n",
    "c.\tZnajdź liczbę wartości powyżej 60 dla każdej kolumny.\n"
   ]
  },
  {
   "cell_type": "code",
   "execution_count": 16,
   "outputs": [
    {
     "data": {
      "text/plain": "array([[38.39016659, 50.32890479, 53.35170089],\n       [45.40006146, 38.25163341, 56.1815359 ],\n       [56.02631829, 32.8953105 , 62.95298787],\n       ...,\n       [50.07896952, 64.49812726, 37.92837708],\n       [50.94731706, 34.5994673 , 49.53844045],\n       [41.92467559, 52.38285231, 53.86772276]])"
     },
     "execution_count": 16,
     "metadata": {},
     "output_type": "execute_result"
    }
   ],
   "source": [
    "#a.\n",
    "array1000x3_normal = np.random.normal(50, 10, (1000, 3)) #tablica o wymiarach 1000x3 z losowymi wartościami z rozkładu normalnego średnia = 50, odchylenie standardowe = 10\n",
    "array1000x3_normal"
   ],
   "metadata": {
    "collapsed": false,
    "ExecuteTime": {
     "end_time": "2024-12-16T17:14:09.172056300Z",
     "start_time": "2024-12-16T17:14:09.153497700Z"
    }
   },
   "id": "55b953fc385f261"
  },
  {
   "cell_type": "code",
   "execution_count": 17,
   "outputs": [
    {
     "data": {
      "text/plain": "array([50.23915652, 50.39413494, 49.98899682])"
     },
     "execution_count": 17,
     "metadata": {},
     "output_type": "execute_result"
    }
   ],
   "source": [
    "#b\n",
    "np.mean(array1000x3_normal, axis=0) #średnia wartość elementów każdej kolumny"
   ],
   "metadata": {
    "collapsed": false,
    "ExecuteTime": {
     "end_time": "2024-12-16T17:18:53.431051200Z",
     "start_time": "2024-12-16T17:18:53.409945500Z"
    }
   },
   "id": "349de1049775e6ef"
  },
  {
   "cell_type": "code",
   "execution_count": 18,
   "outputs": [
    {
     "data": {
      "text/plain": "array([50.20216306, 50.41205294, 49.5494282 ])"
     },
     "execution_count": 18,
     "metadata": {},
     "output_type": "execute_result"
    }
   ],
   "source": [
    "np.median(array1000x3_normal, axis=0) #mediana wartości elementów każdej kolumny"
   ],
   "metadata": {
    "collapsed": false,
    "ExecuteTime": {
     "end_time": "2024-12-16T17:22:38.619035600Z",
     "start_time": "2024-12-16T17:22:38.594437900Z"
    }
   },
   "id": "8295012e7cd0dc13"
  },
  {
   "cell_type": "code",
   "execution_count": 19,
   "outputs": [
    {
     "data": {
      "text/plain": "array([10.15066478, 10.03962054, 10.2102202 ])"
     },
     "execution_count": 19,
     "metadata": {},
     "output_type": "execute_result"
    }
   ],
   "source": [
    "np.std(array1000x3_normal, axis=0) #odchylenie standardowe wartości elementów każdej kolumny"
   ],
   "metadata": {
    "collapsed": false,
    "ExecuteTime": {
     "end_time": "2024-12-16T17:23:56.257451100Z",
     "start_time": "2024-12-16T17:23:56.217657Z"
    }
   },
   "id": "14dec4b928115b80"
  },
  {
   "cell_type": "code",
   "execution_count": 26,
   "outputs": [
    {
     "data": {
      "text/plain": "array([174, 169, 168], dtype=int64)"
     },
     "execution_count": 26,
     "metadata": {},
     "output_type": "execute_result"
    }
   ],
   "source": [
    "#c\n",
    "np.count_nonzero(array1000x3_normal > 60, axis=0) #liczba wartości powyżej 60 dla każdej kolumny"
   ],
   "metadata": {
    "collapsed": false,
    "ExecuteTime": {
     "end_time": "2024-12-16T17:29:35.687352700Z",
     "start_time": "2024-12-16T17:29:35.661007800Z"
    }
   },
   "id": "1bb9f77b1c70242"
  },
  {
   "cell_type": "markdown",
   "id": "a047cd49-9d7e-4639-8f52-40af63aa886f",
   "metadata": {},
   "source": [
    "### Zadanie 4.\tZmiana Analiza danych tablicowych\n",
    "a.\tPoniższy kod generuje dane o wynikach testów 20 studentów z 4 przedmiotów.\n",
    "b.\tOblicz średnią dla każdego przedmiotu oraz dla każdego studenta.\n",
    "c.\tZnajdź studenta z najwyższą średnią i przedmiot, z którego uzyskano najlepszy wynik średni.\n"
   ]
  },
  {
   "cell_type": "code",
   "execution_count": 44,
   "outputs": [
    {
     "data": {
      "text/plain": "array([[77, 87, 93, 87],\n       [79, 82, 97, 80],\n       [80, 79, 85, 86],\n       [86, 65, 91, 99],\n       [84, 69, 75, 77],\n       [74, 86, 86, 76],\n       [68, 80, 60, 91],\n       [71, 84, 73, 73],\n       [85, 87, 61, 76],\n       [68, 90, 62, 74],\n       [69, 72, 77, 61],\n       [61, 85, 94, 97],\n       [73, 77, 85, 87],\n       [99, 85, 97, 87],\n       [89, 61, 82, 61],\n       [78, 64, 94, 92],\n       [96, 61, 97, 73],\n       [69, 73, 63, 74],\n       [91, 83, 67, 69],\n       [62, 81, 79, 84]])"
     },
     "execution_count": 44,
     "metadata": {},
     "output_type": "execute_result"
    }
   ],
   "source": [
    "#a.\n",
    "scores = np.random.randint(60, 100, size=(20, 4))\n",
    "scores"
   ],
   "metadata": {
    "collapsed": false,
    "ExecuteTime": {
     "end_time": "2024-12-16T17:44:32.132245Z",
     "start_time": "2024-12-16T17:44:32.103245500Z"
    }
   },
   "id": "b2eb32f402a95248"
  },
  {
   "cell_type": "code",
   "execution_count": 45,
   "outputs": [
    {
     "data": {
      "text/plain": "array([77.95, 77.55, 80.9 , 80.2 ])"
     },
     "execution_count": 45,
     "metadata": {},
     "output_type": "execute_result"
    }
   ],
   "source": [
    "#b.\n",
    "subject_avg = np.mean(scores, axis=0) #średnia ocen dla każdego przedmiotu\n",
    "subject_avg"
   ],
   "metadata": {
    "collapsed": false,
    "ExecuteTime": {
     "end_time": "2024-12-16T17:44:32.765282500Z",
     "start_time": "2024-12-16T17:44:32.732695900Z"
    }
   },
   "id": "c8e33553a84a461c"
  },
  {
   "cell_type": "code",
   "execution_count": 46,
   "outputs": [
    {
     "data": {
      "text/plain": "array([86.  , 84.5 , 82.5 , 85.25, 76.25, 80.5 , 74.75, 75.25, 77.25,\n       73.5 , 69.75, 84.25, 80.5 , 92.  , 73.25, 82.  , 81.75, 69.75,\n       77.5 , 76.5 ])"
     },
     "execution_count": 46,
     "metadata": {},
     "output_type": "execute_result"
    }
   ],
   "source": [
    "student_avg = np.mean(scores, axis=1) #średnia ocen dla każdego studenta\n",
    "student_avg"
   ],
   "metadata": {
    "collapsed": false,
    "ExecuteTime": {
     "end_time": "2024-12-16T17:44:33.646279900Z",
     "start_time": "2024-12-16T17:44:33.626271300Z"
    }
   },
   "id": "66c96ff52e861560"
  },
  {
   "cell_type": "code",
   "execution_count": 48,
   "outputs": [
    {
     "data": {
      "text/plain": "(13, 92.0)"
     },
     "execution_count": 48,
     "metadata": {},
     "output_type": "execute_result"
    }
   ],
   "source": [
    "best_student_index = np.argmax(student_avg) #szukanie indeksu studenta z najwyższą średnią ocen\n",
    "best_student_mean = student_avg[best_student_index] #średnia ocen tego studenta\n",
    "best_student_index, best_student_mean #wyświetlenie indeksu oraz średniej tego studenta"
   ],
   "metadata": {
    "collapsed": false,
    "ExecuteTime": {
     "end_time": "2024-12-16T17:47:00.495102200Z",
     "start_time": "2024-12-16T17:47:00.469105600Z"
    }
   },
   "id": "b360748a5537b8c6"
  },
  {
   "cell_type": "code",
   "execution_count": 50,
   "outputs": [
    {
     "data": {
      "text/plain": "(2, 80.9)"
     },
     "execution_count": 50,
     "metadata": {},
     "output_type": "execute_result"
    }
   ],
   "source": [
    "best_subject_index = np.argmax(subject_avg) #szukanie indeksu przedmiotu z najwyższą średnią ocen\n",
    "best_subject_mean = subject_avg[best_subject_index] #średnia ocen z tego przedmiotu\n",
    "best_subject_index, best_subject_mean #wyświetlenie indeksu oraz średniej tego przedmiotu"
   ],
   "metadata": {
    "collapsed": false,
    "ExecuteTime": {
     "end_time": "2024-12-16T17:48:15.942813400Z",
     "start_time": "2024-12-16T17:48:15.922793700Z"
    }
   },
   "id": "2fd173b544d96357"
  },
  {
   "cell_type": "markdown",
   "id": "4f1659c0-afb1-4358-8d5c-b667766e6dd7",
   "metadata": {},
   "source": [
    "### Wnioski"
   ]
  },
  {
   "cell_type": "markdown",
   "source": [
    "Podczas laboratorium przećwiczyłem korzystanie z funkcji agregujących, statystycznych, broadcastingu a także generowanie losowych danych przy użyciu biblioteki NumPy."
   ],
   "metadata": {
    "collapsed": false
   },
   "id": "e118c442f1b63f9f"
  },
  {
   "cell_type": "code",
   "execution_count": null,
   "outputs": [],
   "source": [],
   "metadata": {
    "collapsed": false
   },
   "id": "ad07932d59e2ce8f"
  }
 ],
 "metadata": {
  "kernelspec": {
   "display_name": "Python 3 (ipykernel)",
   "language": "python",
   "name": "python3"
  },
  "language_info": {
   "codemirror_mode": {
    "name": "ipython",
    "version": 3
   },
   "file_extension": ".py",
   "mimetype": "text/x-python",
   "name": "python",
   "nbconvert_exporter": "python",
   "pygments_lexer": "ipython3",
   "version": "3.11.10"
  }
 },
 "nbformat": 4,
 "nbformat_minor": 5
}
