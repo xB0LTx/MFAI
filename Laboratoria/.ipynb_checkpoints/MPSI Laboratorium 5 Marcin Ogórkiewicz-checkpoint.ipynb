{
 "cells": [
  {
   "cell_type": "markdown",
   "id": "43d4b958-ceab-4c6e-9156-ec3b7f4371fd",
   "metadata": {},
   "source": [
    "# Laboratorium 5 : Wprowadzenie do PyTorch i Tensorów"
   ]
  },
  {
   "cell_type": "markdown",
   "id": "20933a64-3d4d-49f5-a11f-fd9e07a3bf97",
   "metadata": {},
   "source": [
    "## Marcin Ogórkiewicz 120674, grupa 1"
   ]
  },
  {
   "cell_type": "markdown",
   "source": [
    "### Zadanie 1: Tworzenie tensorów\n",
    "1. Stwórz tensor 3x3 zawierający wartości losowe przy użyciu torch.rand.\n",
    "2. Stwórz tensor jednostkowy 4x4 przy użyciu torch.eye.\n",
    "3. Stwórz tensor zawierający liczby całkowite od 1 do 9 w formie macierzy 3x3.\n",
    "4. Zmieniaj kształt tensora z punktu 3 przy użyciu funkcji reshape."
   ],
   "metadata": {
    "collapsed": false
   },
   "id": "7c37d30221cfd6ac"
  },
  {
   "cell_type": "code",
   "execution_count": 15,
   "id": "2b2539e0-bad1-49bf-9ef9-5bd40fb03016",
   "metadata": {
    "ExecuteTime": {
     "end_time": "2024-12-19T10:00:55.408144800Z",
     "start_time": "2024-12-19T10:00:55.384574900Z"
    }
   },
   "outputs": [
    {
     "data": {
      "text/plain": "tensor([[0.4797, 0.3148, 0.2934],\n        [0.7917, 0.1499, 0.3612],\n        [0.8958, 0.9006, 0.6099]])"
     },
     "execution_count": 15,
     "metadata": {},
     "output_type": "execute_result"
    }
   ],
   "source": [
    "import torch\n",
    "\n",
    "#1.\n",
    "tensor3x3_rand = torch.rand(3, 3) #tensor 3x3 zawierający losowe wartości\n",
    "tensor3x3_rand"
   ]
  },
  {
   "cell_type": "code",
   "execution_count": 16,
   "outputs": [
    {
     "data": {
      "text/plain": "tensor([[1., 0., 0., 0.],\n        [0., 1., 0., 0.],\n        [0., 0., 1., 0.],\n        [0., 0., 0., 1.]])"
     },
     "execution_count": 16,
     "metadata": {},
     "output_type": "execute_result"
    }
   ],
   "source": [
    "#2.\n",
    "tensor4x4_1 = torch.eye(4, 4) #tensor jednostkowy 4x4\n",
    "tensor4x4_1"
   ],
   "metadata": {
    "collapsed": false,
    "ExecuteTime": {
     "end_time": "2024-12-19T10:00:55.765347100Z",
     "start_time": "2024-12-19T10:00:55.734452900Z"
    }
   },
   "id": "307300ef9ea9992f"
  },
  {
   "cell_type": "code",
   "execution_count": 17,
   "outputs": [
    {
     "data": {
      "text/plain": "tensor([[1, 2, 3],\n        [4, 5, 6],\n        [7, 8, 9]])"
     },
     "execution_count": 17,
     "metadata": {},
     "output_type": "execute_result"
    }
   ],
   "source": [
    "#3.\n",
    "tensor3x3 = torch.arange(1, 10).reshape(3, 3) #stworzenie tensora jednowymiarowego wypełnionego liczbami z zakresu 1 - 9 i zamiana go na tensor dwuwymiarowy 3x3\n",
    "tensor3x3"
   ],
   "metadata": {
    "collapsed": false,
    "ExecuteTime": {
     "end_time": "2024-12-19T10:00:56.065457200Z",
     "start_time": "2024-12-19T10:00:56.059438Z"
    }
   },
   "id": "84b2a17d19198fce"
  },
  {
   "cell_type": "code",
   "execution_count": 18,
   "outputs": [
    {
     "data": {
      "text/plain": "tensor([[1, 2, 3, 4, 5, 6, 7, 8, 9]])"
     },
     "execution_count": 18,
     "metadata": {},
     "output_type": "execute_result"
    }
   ],
   "source": [
    "#4.\n",
    "tensor3x3.reshape(1, 9) #ponowna zamiana na tensor jednowymiarowy"
   ],
   "metadata": {
    "collapsed": false,
    "ExecuteTime": {
     "end_time": "2024-12-19T10:00:56.362751600Z",
     "start_time": "2024-12-19T10:00:56.341010300Z"
    }
   },
   "id": "92d4651fa9388f42"
  },
  {
   "cell_type": "markdown",
   "source": [
    "### Zadanie 2: Operacje na tensorach\n",
    "1. Stwórz dwa tensory o wymiarach 2x2:\n",
    "a. A = [[1, 2], [3, 4]]\n",
    "b. B = [[5, 6], [7, 8]]\n",
    "2. Wykonaj następujące operacje:\n",
    "a. Dodawanie tensorów.\n",
    "b. Mnożenie tensorów (element po elemencie).\n",
    "c. Mnożenie macierzowe.\n"
   ],
   "metadata": {
    "collapsed": false
   },
   "id": "cf9901900d85cf3a"
  },
  {
   "cell_type": "code",
   "execution_count": 19,
   "id": "be0bd6ca-f997-4b0f-9c41-f5b47a95c10c",
   "metadata": {
    "ExecuteTime": {
     "end_time": "2024-12-19T10:00:56.983025600Z",
     "start_time": "2024-12-19T10:00:56.962082400Z"
    }
   },
   "outputs": [],
   "source": [
    "#1\n",
    "A = torch.tensor([[1, 2], [3, 4]]) #a.\n",
    "B = torch.tensor([[5, 6], [7, 8]]) #b."
   ]
  },
  {
   "cell_type": "code",
   "execution_count": 20,
   "outputs": [
    {
     "data": {
      "text/plain": "tensor([[ 6,  8],\n        [10, 12]])"
     },
     "execution_count": 20,
     "metadata": {},
     "output_type": "execute_result"
    }
   ],
   "source": [
    "#2a. dodawanie tensorów\n",
    "A+B "
   ],
   "metadata": {
    "collapsed": false,
    "ExecuteTime": {
     "end_time": "2024-12-19T10:00:57.530078500Z",
     "start_time": "2024-12-19T10:00:57.509643400Z"
    }
   },
   "id": "6bdebb4930e1d583"
  },
  {
   "cell_type": "code",
   "execution_count": 21,
   "outputs": [
    {
     "data": {
      "text/plain": "tensor([[ 5, 12],\n        [21, 32]])"
     },
     "execution_count": 21,
     "metadata": {},
     "output_type": "execute_result"
    }
   ],
   "source": [
    "#b. mnożenie tensorów(element po elemencie)\n",
    "A*B"
   ],
   "metadata": {
    "collapsed": false,
    "ExecuteTime": {
     "end_time": "2024-12-19T10:00:57.871007100Z",
     "start_time": "2024-12-19T10:00:57.852708100Z"
    }
   },
   "id": "7868b5655450aaf6"
  },
  {
   "cell_type": "code",
   "execution_count": 22,
   "outputs": [
    {
     "data": {
      "text/plain": "tensor([[19, 22],\n        [43, 50]])"
     },
     "execution_count": 22,
     "metadata": {},
     "output_type": "execute_result"
    }
   ],
   "source": [
    "#c. mnożenie macierzowe\n",
    "torch.matmul(A, B)"
   ],
   "metadata": {
    "collapsed": false,
    "ExecuteTime": {
     "end_time": "2024-12-19T10:00:58.260502100Z",
     "start_time": "2024-12-19T10:00:58.237439600Z"
    }
   },
   "id": "b5fc9cdedfcbaaa9"
  },
  {
   "cell_type": "markdown",
   "source": [
    "### Zadanie 3: Indeksowanie i wycinanie\n",
    "1. Stwórz tensor 4x4 zawierający liczby od 1 do 16.\n",
    "2. Wykonaj następujące operacje:\n",
    "a. Wyciągnij cały drugi wiersz.\n",
    "b. Wyciągnij trzeci element z drugiego wiersza.\n",
    "c. Wyciągnij podmacierz 2x2 z dolnego prawego rogu."
   ],
   "metadata": {
    "collapsed": false
   },
   "id": "9033cb9741d23055"
  },
  {
   "cell_type": "code",
   "execution_count": 23,
   "outputs": [
    {
     "data": {
      "text/plain": "tensor([[ 1,  2,  3,  4],\n        [ 5,  6,  7,  8],\n        [ 9, 10, 11, 12],\n        [13, 14, 15, 16]])"
     },
     "execution_count": 23,
     "metadata": {},
     "output_type": "execute_result"
    }
   ],
   "source": [
    "#1.\n",
    "tensor4x4 = torch.arange(1, 17).reshape(4,4) #stworzenie tensora jednowymiarowego wypełnionego liczbami z zakresu 1 - 16 i zamiana go na tensor dwuwymiarowy 4x4\n",
    "tensor4x4"
   ],
   "metadata": {
    "collapsed": false,
    "ExecuteTime": {
     "end_time": "2024-12-19T10:00:59.061184200Z",
     "start_time": "2024-12-19T10:00:59.036367400Z"
    }
   },
   "id": "55b953fc385f261"
  },
  {
   "cell_type": "code",
   "execution_count": 24,
   "outputs": [
    {
     "data": {
      "text/plain": "tensor([5, 6, 7, 8])"
     },
     "execution_count": 24,
     "metadata": {},
     "output_type": "execute_result"
    }
   ],
   "source": [
    "#2.a.\n",
    "tensor4x4[1, :] #drugi wiersz tensora"
   ],
   "metadata": {
    "collapsed": false,
    "ExecuteTime": {
     "end_time": "2024-12-19T10:00:59.394660Z",
     "start_time": "2024-12-19T10:00:59.368386100Z"
    }
   },
   "id": "349de1049775e6ef"
  },
  {
   "cell_type": "code",
   "execution_count": 25,
   "outputs": [
    {
     "data": {
      "text/plain": "tensor(7)"
     },
     "execution_count": 25,
     "metadata": {},
     "output_type": "execute_result"
    }
   ],
   "source": [
    "#b.\n",
    "tensor4x4[1, 2] #trzeci element drugiego wiersza tensora"
   ],
   "metadata": {
    "collapsed": false,
    "ExecuteTime": {
     "end_time": "2024-12-19T10:00:59.643987600Z",
     "start_time": "2024-12-19T10:00:59.624030300Z"
    }
   },
   "id": "8295012e7cd0dc13"
  },
  {
   "cell_type": "code",
   "execution_count": 26,
   "outputs": [
    {
     "data": {
      "text/plain": "tensor([[11, 12],\n        [15, 16]])"
     },
     "execution_count": 26,
     "metadata": {},
     "output_type": "execute_result"
    }
   ],
   "source": [
    "#c.\n",
    "tensor4x4[2:,2:] #podmacierz 2x2 z prawego dolnego rogu tensora"
   ],
   "metadata": {
    "collapsed": false,
    "ExecuteTime": {
     "end_time": "2024-12-19T10:01:00.250470400Z",
     "start_time": "2024-12-19T10:01:00.202749900Z"
    }
   },
   "id": "14dec4b928115b80"
  },
  {
   "cell_type": "markdown",
   "source": [
    "### Zadanie 4: Praca z GPU\n",
    "1. Sprawdź, czy masz dostępne GPU za pomocą torch.cuda.is_available().\n",
    "2. Stwórz tensor na GPU i wykonaj na nim operacje matematyczne (mnożenie, dzielenie,\n",
    "dodawanie i potęgowanie).\n",
    "3. Przenieś tensor z GPU na CPU i wyświetl wynik.\n"
   ],
   "metadata": {
    "collapsed": false
   },
   "id": "7116318a1935d5de"
  },
  {
   "cell_type": "code",
   "execution_count": 30,
   "outputs": [
    {
     "data": {
      "text/plain": "False"
     },
     "execution_count": 30,
     "metadata": {},
     "output_type": "execute_result"
    }
   ],
   "source": [
    "#1.\n",
    "torch.cuda.is_available()"
   ],
   "metadata": {
    "collapsed": false,
    "ExecuteTime": {
     "end_time": "2024-12-19T10:06:14.451499800Z",
     "start_time": "2024-12-19T10:06:14.416334400Z"
    }
   },
   "id": "66c96ff52e861560"
  },
  {
   "cell_type": "code",
   "execution_count": null,
   "outputs": [],
   "source": [],
   "metadata": {
    "collapsed": false
   },
   "id": "1c90ca0812e7b13d"
  },
  {
   "cell_type": "code",
   "execution_count": null,
   "outputs": [],
   "source": [],
   "metadata": {
    "collapsed": false
   },
   "id": "2945c0510916299d"
  },
  {
   "cell_type": "markdown",
   "source": [
    "### Zadanie 5: Konwersja między NumPy a PyTorch\n",
    "1. Stwórz tablicę NumPy zawierającą liczby od 0 do 5.\n",
    "2. Przekonwertuj ją na tensor PyTorch.\n",
    "3. Przekonwertuj tensor PyTorch z powrotem na tablicę NumPy."
   ],
   "metadata": {
    "collapsed": false
   },
   "id": "531c3712643f9004"
  },
  {
   "cell_type": "code",
   "execution_count": 33,
   "outputs": [],
   "source": [],
   "metadata": {
    "collapsed": false,
    "ExecuteTime": {
     "end_time": "2024-12-19T09:55:38.349652500Z",
     "start_time": "2024-12-19T09:55:38.327737800Z"
    }
   },
   "id": "2fd173b544d96357"
  },
  {
   "cell_type": "code",
   "execution_count": null,
   "outputs": [],
   "source": [],
   "metadata": {
    "collapsed": false
   },
   "id": "5dde0c1635cc77f8"
  },
  {
   "cell_type": "code",
   "execution_count": null,
   "outputs": [],
   "source": [],
   "metadata": {
    "collapsed": false
   },
   "id": "729dfed7870d98d"
  },
  {
   "cell_type": "markdown",
   "id": "4f1659c0-afb1-4358-8d5c-b667766e6dd7",
   "metadata": {},
   "source": [
    "### Wnioski"
   ]
  },
  {
   "cell_type": "markdown",
   "source": [
    "Dzięki laboratorium poznałem podstawowe funkcje biblioteki Scipy, a także miałem okazję przećwiczyć wizualizację danych z wykorzystaniem biblioteki matplotlib."
   ],
   "metadata": {
    "collapsed": false
   },
   "id": "e118c442f1b63f9f"
  },
  {
   "cell_type": "code",
   "execution_count": null,
   "outputs": [],
   "source": [],
   "metadata": {
    "collapsed": false
   },
   "id": "ad07932d59e2ce8f"
  }
 ],
 "metadata": {
  "kernelspec": {
   "display_name": "Python 3 (ipykernel)",
   "language": "python",
   "name": "python3"
  },
  "language_info": {
   "codemirror_mode": {
    "name": "ipython",
    "version": 3
   },
   "file_extension": ".py",
   "mimetype": "text/x-python",
   "name": "python",
   "nbconvert_exporter": "python",
   "pygments_lexer": "ipython3",
   "version": "3.11.10"
  }
 },
 "nbformat": 4,
 "nbformat_minor": 5
}
