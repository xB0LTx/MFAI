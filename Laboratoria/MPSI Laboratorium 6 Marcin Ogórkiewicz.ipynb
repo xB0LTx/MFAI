{
 "cells": [
  {
   "cell_type": "markdown",
   "id": "43d4b958-ceab-4c6e-9156-ec3b7f4371fd",
   "metadata": {},
   "source": [
    "# Laboratorium 6 : PyTorch - Pakiet Autograd"
   ]
  },
  {
   "cell_type": "markdown",
   "id": "20933a64-3d4d-49f5-a11f-fd9e07a3bf97",
   "metadata": {},
   "source": [
    "## Marcin Ogórkiewicz 120674, grupa 1"
   ]
  },
  {
   "cell_type": "markdown",
   "source": [
    "### Zadanie 1: Podstawowe różniczkowanie"
   ],
   "metadata": {
    "collapsed": false
   },
   "id": "dc96257131fb0318"
  },
  {
   "cell_type": "code",
   "execution_count": 10,
   "id": "2b2539e0-bad1-49bf-9ef9-5bd40fb03016",
   "metadata": {
    "ExecuteTime": {
     "end_time": "2025-01-16T10:47:49.750824900Z",
     "start_time": "2025-01-16T10:47:49.732887500Z"
    }
   },
   "outputs": [
    {
     "data": {
      "text/plain": "tensor(5., requires_grad=True)"
     },
     "execution_count": 10,
     "metadata": {},
     "output_type": "execute_result"
    }
   ],
   "source": [
    "import torch\n",
    "\n",
    "#1. Utworzenie tensora x z requires_grad=True\n",
    "x = torch.tensor(5.0, requires_grad=True)\n",
    "x"
   ]
  },
  {
   "cell_type": "code",
   "execution_count": 11,
   "outputs": [
    {
     "data": {
      "text/plain": "tensor(28., grad_fn=<SubBackward0>)"
     },
     "execution_count": 11,
     "metadata": {},
     "output_type": "execute_result"
    }
   ],
   "source": [
    "#2. Obliczenie funkcji y\n",
    "y = x**3 - 4*x**2 + 2*x - 7\n",
    "y"
   ],
   "metadata": {
    "collapsed": false,
    "ExecuteTime": {
     "end_time": "2025-01-16T10:47:50.158795100Z",
     "start_time": "2025-01-16T10:47:50.143067300Z"
    }
   },
   "id": "307300ef9ea9992f"
  },
  {
   "cell_type": "code",
   "execution_count": 12,
   "outputs": [
    {
     "data": {
      "text/plain": "37.0"
     },
     "execution_count": 12,
     "metadata": {},
     "output_type": "execute_result"
    }
   ],
   "source": [
    "#3. Obliczenie gradientu funkcji y względem x\n",
    "y.backward()\n",
    "x.grad.item()"
   ],
   "metadata": {
    "collapsed": false,
    "ExecuteTime": {
     "end_time": "2025-01-16T10:47:50.682043200Z",
     "start_time": "2025-01-16T10:47:50.661439300Z"
    }
   },
   "id": "84b2a17d19198fce"
  },
  {
   "cell_type": "markdown",
   "source": [
    "### Zadanie 2: Gradienty dla wielowymiarowych tensorów\n"
   ],
   "metadata": {
    "collapsed": false
   },
   "id": "cf9901900d85cf3a"
  },
  {
   "cell_type": "code",
   "execution_count": 13,
   "id": "be0bd6ca-f997-4b0f-9c41-f5b47a95c10c",
   "metadata": {
    "ExecuteTime": {
     "end_time": "2025-01-16T10:47:53.663179600Z",
     "start_time": "2025-01-16T10:47:53.646085400Z"
    }
   },
   "outputs": [],
   "source": [
    "#1. Utworzenie tensora x z requires_grad=True\n",
    "x = torch.tensor([2.0, 3.0], requires_grad=True)"
   ]
  },
  {
   "cell_type": "code",
   "execution_count": 14,
   "outputs": [
    {
     "data": {
      "text/plain": "tensor(43., grad_fn=<AddBackward0>)"
     },
     "execution_count": 14,
     "metadata": {},
     "output_type": "execute_result"
    }
   ],
   "source": [
    "#2. Obliczenie funkcji y\n",
    "y = x[0]**2 + 3 * x[1]**2 + 2 * x[0] * x[1]\n",
    "y"
   ],
   "metadata": {
    "collapsed": false,
    "ExecuteTime": {
     "end_time": "2025-01-16T10:47:54.065773100Z",
     "start_time": "2025-01-16T10:47:54.059993400Z"
    }
   },
   "id": "6bdebb4930e1d583"
  },
  {
   "cell_type": "code",
   "execution_count": 15,
   "outputs": [
    {
     "data": {
      "text/plain": "10.0"
     },
     "execution_count": 15,
     "metadata": {},
     "output_type": "execute_result"
    }
   ],
   "source": [
    "#3. Obliczenie gradientów\n",
    "y.backward()\n",
    "x.grad[0].item()"
   ],
   "metadata": {
    "collapsed": false,
    "ExecuteTime": {
     "end_time": "2025-01-16T10:47:55.120245400Z",
     "start_time": "2025-01-16T10:47:55.107834700Z"
    }
   },
   "id": "7868b5655450aaf6"
  },
  {
   "cell_type": "code",
   "execution_count": 16,
   "outputs": [
    {
     "data": {
      "text/plain": "22.0"
     },
     "execution_count": 16,
     "metadata": {},
     "output_type": "execute_result"
    }
   ],
   "source": [
    "#c. mnożenie macierzowe\n",
    "x.grad[1].item()"
   ],
   "metadata": {
    "collapsed": false,
    "ExecuteTime": {
     "end_time": "2025-01-16T10:47:55.817361700Z",
     "start_time": "2025-01-16T10:47:55.812388Z"
    }
   },
   "id": "b5fc9cdedfcbaaa9"
  },
  {
   "cell_type": "markdown",
   "source": [
    "### Zadanie 3: Minimalizacja funkcji kwadratowej"
   ],
   "metadata": {
    "collapsed": false
   },
   "id": "9033cb9741d23055"
  },
  {
   "cell_type": "code",
   "execution_count": 17,
   "outputs": [
    {
     "data": {
      "text/plain": "tensor(10., requires_grad=True)"
     },
     "execution_count": 17,
     "metadata": {},
     "output_type": "execute_result"
    }
   ],
   "source": [
    "#1. Inicjalizacja x z requires_grad=True\n",
    "x = torch.tensor(10.0, requires_grad=True)\n",
    "x"
   ],
   "metadata": {
    "collapsed": false,
    "ExecuteTime": {
     "end_time": "2025-01-16T10:52:58.183589300Z",
     "start_time": "2025-01-16T10:52:58.165393900Z"
    }
   },
   "id": "55b953fc385f261"
  },
  {
   "cell_type": "code",
   "execution_count": 18,
   "outputs": [
    {
     "name": "stdout",
     "output_type": "stream",
     "text": [
      "Iteracja 1: x = 8.0, y = 100.0\n",
      "Iteracja 2: x = 6.400000095367432, y = 64.0\n",
      "Iteracja 3: x = 5.119999885559082, y = 40.96000289916992\n",
      "Iteracja 4: x = 4.095999717712402, y = 26.214399337768555\n",
      "Iteracja 5: x = 3.2767996788024902, y = 16.77721405029297\n",
      "Iteracja 6: x = 2.6214396953582764, y = 10.73741626739502\n",
      "Iteracja 7: x = 2.097151756286621, y = 6.871945858001709\n",
      "Iteracja 8: x = 1.677721381187439, y = 4.398045539855957\n",
      "Iteracja 9: x = 1.342177152633667, y = 2.814749002456665\n",
      "Iteracja 10: x = 1.0737416744232178, y = 1.8014395236968994\n"
     ]
    }
   ],
   "source": [
    "#2.\n",
    "eta = 0.1 #współczynnik uczenia (eta)\n",
    "#iteracyjna minimalizacja\n",
    "for i in range(10):\n",
    "    y = x**2 #obliczanie funkcji y\n",
    "    y.backward() #obliczanie gradientu\n",
    "    #aktualizacja x zgodnie z regułą gradientową\n",
    "    with torch.no_grad():\n",
    "        x -= eta * x.grad\n",
    "    x.grad.zero_() #wyzerowanie gradientu dla kolejnej iteracji\n",
    "    print(f\"Iteracja {i+1}: x = {x.item()}, y = {y.item()}\") #wyświetlanie wyników dla każdej iteracji\n"
   ],
   "metadata": {
    "collapsed": false,
    "ExecuteTime": {
     "end_time": "2025-01-16T10:55:33.211810Z",
     "start_time": "2025-01-16T10:55:33.177801800Z"
    }
   },
   "id": "349de1049775e6ef"
  },
  {
   "cell_type": "markdown",
   "source": [
    "### Zadanie 4: Zarządzanie gradientami"
   ],
   "metadata": {
    "collapsed": false
   },
   "id": "7116318a1935d5de"
  },
  {
   "cell_type": "code",
   "execution_count": 21,
   "outputs": [
    {
     "data": {
      "text/plain": "tensor(3., requires_grad=True)"
     },
     "execution_count": 21,
     "metadata": {},
     "output_type": "execute_result"
    }
   ],
   "source": [
    "#1. Utworzenie tensora z requires_grad=True\n",
    "x = torch.tensor(3.0, requires_grad=True)\n",
    "x"
   ],
   "metadata": {
    "collapsed": false,
    "ExecuteTime": {
     "end_time": "2025-01-16T11:01:58.820237600Z",
     "start_time": "2025-01-16T11:01:58.807912300Z"
    }
   },
   "id": "66c96ff52e861560"
  },
  {
   "cell_type": "code",
   "execution_count": 22,
   "outputs": [
    {
     "data": {
      "text/plain": "27.0"
     },
     "execution_count": 22,
     "metadata": {},
     "output_type": "execute_result"
    }
   ],
   "source": [
    "#2. Obliczenie y = x^3 bez śledzenia gradientów\n",
    "with torch.no_grad():\n",
    "    y = x**3\n",
    "y.item()"
   ],
   "metadata": {
    "collapsed": false,
    "ExecuteTime": {
     "end_time": "2025-01-16T11:01:59.315332900Z",
     "start_time": "2025-01-16T11:01:59.310973200Z"
    }
   },
   "id": "1c90ca0812e7b13d"
  },
  {
   "cell_type": "code",
   "execution_count": 23,
   "outputs": [
    {
     "data": {
      "text/plain": "True"
     },
     "execution_count": 23,
     "metadata": {},
     "output_type": "execute_result"
    }
   ],
   "source": [
    "x.requires_grad"
   ],
   "metadata": {
    "collapsed": false,
    "ExecuteTime": {
     "end_time": "2025-01-16T11:02:19.901293900Z",
     "start_time": "2025-01-16T11:02:19.894263500Z"
    }
   },
   "id": "2945c0510916299d"
  },
  {
   "cell_type": "markdown",
   "source": [
    "Gradient dostępny dla x"
   ],
   "metadata": {
    "collapsed": false
   },
   "id": "166d7437dcca544f"
  },
  {
   "cell_type": "code",
   "execution_count": 24,
   "outputs": [
    {
     "data": {
      "text/plain": "False"
     },
     "execution_count": 24,
     "metadata": {},
     "output_type": "execute_result"
    }
   ],
   "source": [
    "y.requires_grad"
   ],
   "metadata": {
    "collapsed": false,
    "ExecuteTime": {
     "end_time": "2025-01-16T11:02:20.547255100Z",
     "start_time": "2025-01-16T11:02:20.541788Z"
    }
   },
   "id": "83c3d62e9b8b0a9a"
  },
  {
   "cell_type": "markdown",
   "source": [
    "Gradient niedostępny dla y"
   ],
   "metadata": {
    "collapsed": false
   },
   "id": "513c79206a6b88d7"
  },
  {
   "cell_type": "markdown",
   "source": [
    "### Zadanie 5: Obliczanie gradientów dla sieci neuronowej"
   ],
   "metadata": {
    "collapsed": false
   },
   "id": "531c3712643f9004"
  },
  {
   "cell_type": "code",
   "execution_count": 35,
   "outputs": [
    {
     "data": {
      "text/plain": "tensor([[0.1920, 0.5575, 0.8163]], requires_grad=True)"
     },
     "execution_count": 35,
     "metadata": {},
     "output_type": "execute_result"
    }
   ],
   "source": [
    "#1. Utworzenie losowego tensora x z requires_grad=True\n",
    "x = torch.rand(1, 3, requires_grad=True)\n",
    "x"
   ],
   "metadata": {
    "collapsed": false,
    "ExecuteTime": {
     "end_time": "2025-01-16T11:14:30.682969900Z",
     "start_time": "2025-01-16T11:14:30.666424800Z"
    }
   },
   "id": "2fd173b544d96357"
  },
  {
   "cell_type": "code",
   "execution_count": 36,
   "outputs": [
    {
     "data": {
      "text/plain": "tensor([ 2., -3.,  1.], requires_grad=True)"
     },
     "execution_count": 36,
     "metadata": {},
     "output_type": "execute_result"
    }
   ],
   "source": [
    "#2.\n",
    "w = torch.tensor([2.0, -3.0, 1.0], requires_grad=True) #tensor w\n",
    "w"
   ],
   "metadata": {
    "collapsed": false,
    "ExecuteTime": {
     "end_time": "2025-01-16T11:14:31.340800Z",
     "start_time": "2025-01-16T11:14:31.329282100Z"
    }
   },
   "id": "5dde0c1635cc77f8"
  },
  {
   "cell_type": "code",
   "execution_count": 37,
   "outputs": [
    {
     "data": {
      "text/plain": "tensor(5., requires_grad=True)"
     },
     "execution_count": 37,
     "metadata": {},
     "output_type": "execute_result"
    }
   ],
   "source": [
    "b = torch.tensor(5.0, requires_grad=True) #tensor b\n",
    "b"
   ],
   "metadata": {
    "collapsed": false,
    "ExecuteTime": {
     "end_time": "2025-01-16T11:14:31.849887800Z",
     "start_time": "2025-01-16T11:14:31.832628600Z"
    }
   },
   "id": "729dfed7870d98d"
  },
  {
   "cell_type": "code",
   "execution_count": 38,
   "outputs": [
    {
     "data": {
      "text/plain": "4.527758598327637"
     },
     "execution_count": 38,
     "metadata": {},
     "output_type": "execute_result"
    }
   ],
   "source": [
    "y = torch.matmul(x, w) + b #obliczenie funkcji liniowej y = wx + b\n",
    "y.backward()\n",
    "y.item()"
   ],
   "metadata": {
    "collapsed": false,
    "ExecuteTime": {
     "end_time": "2025-01-16T11:14:32.683759600Z",
     "start_time": "2025-01-16T11:14:32.670684400Z"
    }
   },
   "id": "53256e665af8d1ed"
  },
  {
   "cell_type": "code",
   "execution_count": 41,
   "outputs": [
    {
     "data": {
      "text/plain": "tensor([0.1920, 0.5575, 0.8163])"
     },
     "execution_count": 41,
     "metadata": {},
     "output_type": "execute_result"
    }
   ],
   "source": [
    "w.grad"
   ],
   "metadata": {
    "collapsed": false,
    "ExecuteTime": {
     "end_time": "2025-01-16T11:23:54.863394Z",
     "start_time": "2025-01-16T11:23:54.846944100Z"
    }
   },
   "id": "c7f485b63125eca5"
  },
  {
   "cell_type": "code",
   "execution_count": 43,
   "outputs": [
    {
     "data": {
      "text/plain": "tensor(1.)"
     },
     "execution_count": 43,
     "metadata": {},
     "output_type": "execute_result"
    }
   ],
   "source": [
    "b.grad"
   ],
   "metadata": {
    "collapsed": false,
    "ExecuteTime": {
     "end_time": "2025-01-16T11:25:23.057757600Z",
     "start_time": "2025-01-16T11:25:23.037455400Z"
    }
   },
   "id": "49876550895751e4"
  },
  {
   "cell_type": "markdown",
   "id": "4f1659c0-afb1-4358-8d5c-b667766e6dd7",
   "metadata": {},
   "source": [
    "### Wnioski"
   ]
  },
  {
   "cell_type": "markdown",
   "source": [
    "Podczas laboratorium zaznajomiłem się z pakietem Autograd z biblioteki Pytorch. Dzięki temu nauczyłem się obliczać gradienty z pomocą Pythona."
   ],
   "metadata": {
    "collapsed": false
   },
   "id": "e118c442f1b63f9f"
  },
  {
   "cell_type": "code",
   "execution_count": null,
   "outputs": [],
   "source": [],
   "metadata": {
    "collapsed": false
   },
   "id": "ad07932d59e2ce8f"
  }
 ],
 "metadata": {
  "kernelspec": {
   "display_name": "Python 3 (ipykernel)",
   "language": "python",
   "name": "python3"
  },
  "language_info": {
   "codemirror_mode": {
    "name": "ipython",
    "version": 3
   },
   "file_extension": ".py",
   "mimetype": "text/x-python",
   "name": "python",
   "nbconvert_exporter": "python",
   "pygments_lexer": "ipython3",
   "version": "3.11.10"
  }
 },
 "nbformat": 4,
 "nbformat_minor": 5
}
