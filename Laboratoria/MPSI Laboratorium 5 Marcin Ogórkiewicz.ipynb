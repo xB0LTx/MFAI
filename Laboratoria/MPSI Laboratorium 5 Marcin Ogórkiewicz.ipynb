{
 "cells": [
  {
   "cell_type": "markdown",
   "id": "43d4b958-ceab-4c6e-9156-ec3b7f4371fd",
   "metadata": {},
   "source": [
    "# Laboratorium 5 : Wprowadzenie do PyTorch i Tensorów"
   ]
  },
  {
   "cell_type": "markdown",
   "id": "20933a64-3d4d-49f5-a11f-fd9e07a3bf97",
   "metadata": {},
   "source": [
    "## Marcin Ogórkiewicz 120674, grupa 1"
   ]
  },
  {
   "cell_type": "markdown",
   "source": [
    "### Zadanie 1: Tworzenie tensorów\n",
    "1. Stwórz tensor 3x3 zawierający wartości losowe przy użyciu torch.rand.\n",
    "2. Stwórz tensor jednostkowy 4x4 przy użyciu torch.eye.\n",
    "3. Stwórz tensor zawierający liczby całkowite od 1 do 9 w formie macierzy 3x3.\n",
    "4. Zmieniaj kształt tensora z punktu 3 przy użyciu funkcji reshape."
   ],
   "metadata": {
    "collapsed": false
   },
   "id": "7c37d30221cfd6ac"
  },
  {
   "cell_type": "code",
   "execution_count": 39,
   "id": "2b2539e0-bad1-49bf-9ef9-5bd40fb03016",
   "metadata": {
    "ExecuteTime": {
     "end_time": "2024-12-19T10:44:19.666297800Z",
     "start_time": "2024-12-19T10:44:19.648892700Z"
    }
   },
   "outputs": [
    {
     "data": {
      "text/plain": "tensor([[0.0455, 0.8478, 0.5486],\n        [0.5298, 0.8996, 0.1583],\n        [0.7308, 0.5565, 0.7835]])"
     },
     "execution_count": 39,
     "metadata": {},
     "output_type": "execute_result"
    }
   ],
   "source": [
    "import torch\n",
    "import numpy as np\n",
    "\n",
    "#1.\n",
    "tensor3x3_rand = torch.rand(3, 3) #tensor 3x3 zawierający losowe wartości\n",
    "tensor3x3_rand"
   ]
  },
  {
   "cell_type": "code",
   "execution_count": 40,
   "outputs": [
    {
     "data": {
      "text/plain": "tensor([[1., 0., 0., 0.],\n        [0., 1., 0., 0.],\n        [0., 0., 1., 0.],\n        [0., 0., 0., 1.]])"
     },
     "execution_count": 40,
     "metadata": {},
     "output_type": "execute_result"
    }
   ],
   "source": [
    "#2.\n",
    "tensor4x4_1 = torch.eye(4, 4) #tensor jednostkowy 4x4\n",
    "tensor4x4_1"
   ],
   "metadata": {
    "collapsed": false,
    "ExecuteTime": {
     "end_time": "2024-12-19T10:44:20.711250500Z",
     "start_time": "2024-12-19T10:44:20.706163700Z"
    }
   },
   "id": "307300ef9ea9992f"
  },
  {
   "cell_type": "code",
   "execution_count": 41,
   "outputs": [
    {
     "data": {
      "text/plain": "tensor([[1, 2, 3],\n        [4, 5, 6],\n        [7, 8, 9]])"
     },
     "execution_count": 41,
     "metadata": {},
     "output_type": "execute_result"
    }
   ],
   "source": [
    "#3.\n",
    "tensor3x3 = torch.arange(1, 10).reshape(3, 3) #stworzenie tensora jednowymiarowego wypełnionego liczbami z zakresu 1 - 9 i zamiana go na tensor dwuwymiarowy 3x3\n",
    "tensor3x3"
   ],
   "metadata": {
    "collapsed": false,
    "ExecuteTime": {
     "end_time": "2024-12-19T10:44:21.333473400Z",
     "start_time": "2024-12-19T10:44:21.327540700Z"
    }
   },
   "id": "84b2a17d19198fce"
  },
  {
   "cell_type": "code",
   "execution_count": 42,
   "outputs": [
    {
     "data": {
      "text/plain": "tensor([[1, 2, 3, 4, 5, 6, 7, 8, 9]])"
     },
     "execution_count": 42,
     "metadata": {},
     "output_type": "execute_result"
    }
   ],
   "source": [
    "#4.\n",
    "tensor3x3.reshape(1, 9) #ponowna zamiana na tensor jednowymiarowy"
   ],
   "metadata": {
    "collapsed": false,
    "ExecuteTime": {
     "end_time": "2024-12-19T10:44:21.826203100Z",
     "start_time": "2024-12-19T10:44:21.822203300Z"
    }
   },
   "id": "92d4651fa9388f42"
  },
  {
   "cell_type": "markdown",
   "source": [
    "### Zadanie 2: Operacje na tensorach\n",
    "1. Stwórz dwa tensory o wymiarach 2x2:\n",
    "a. A = [[1, 2], [3, 4]]\n",
    "b. B = [[5, 6], [7, 8]]\n",
    "2. Wykonaj następujące operacje:\n",
    "a. Dodawanie tensorów.\n",
    "b. Mnożenie tensorów (element po elemencie).\n",
    "c. Mnożenie macierzowe.\n"
   ],
   "metadata": {
    "collapsed": false
   },
   "id": "cf9901900d85cf3a"
  },
  {
   "cell_type": "code",
   "execution_count": 5,
   "id": "be0bd6ca-f997-4b0f-9c41-f5b47a95c10c",
   "metadata": {
    "ExecuteTime": {
     "end_time": "2024-12-19T10:31:32.312047500Z",
     "start_time": "2024-12-19T10:31:32.275049800Z"
    }
   },
   "outputs": [],
   "source": [
    "#1\n",
    "A = torch.tensor([[1, 2], [3, 4]]) #tensor A\n",
    "B = torch.tensor([[5, 6], [7, 8]]) #tensor B"
   ]
  },
  {
   "cell_type": "code",
   "execution_count": 6,
   "outputs": [
    {
     "data": {
      "text/plain": "tensor([[ 6,  8],\n        [10, 12]])"
     },
     "execution_count": 6,
     "metadata": {},
     "output_type": "execute_result"
    }
   ],
   "source": [
    "#2a. dodawanie tensorów\n",
    "A+B "
   ],
   "metadata": {
    "collapsed": false,
    "ExecuteTime": {
     "end_time": "2024-12-19T10:31:32.704793900Z",
     "start_time": "2024-12-19T10:31:32.669276600Z"
    }
   },
   "id": "6bdebb4930e1d583"
  },
  {
   "cell_type": "code",
   "execution_count": 7,
   "outputs": [
    {
     "data": {
      "text/plain": "tensor([[ 5, 12],\n        [21, 32]])"
     },
     "execution_count": 7,
     "metadata": {},
     "output_type": "execute_result"
    }
   ],
   "source": [
    "#b. mnożenie tensorów(element po elemencie)\n",
    "A*B"
   ],
   "metadata": {
    "collapsed": false,
    "ExecuteTime": {
     "end_time": "2024-12-19T10:31:33.410319900Z",
     "start_time": "2024-12-19T10:31:33.400797500Z"
    }
   },
   "id": "7868b5655450aaf6"
  },
  {
   "cell_type": "code",
   "execution_count": 8,
   "outputs": [
    {
     "data": {
      "text/plain": "tensor([[19, 22],\n        [43, 50]])"
     },
     "execution_count": 8,
     "metadata": {},
     "output_type": "execute_result"
    }
   ],
   "source": [
    "#c. mnożenie macierzowe\n",
    "torch.matmul(A, B)"
   ],
   "metadata": {
    "collapsed": false,
    "ExecuteTime": {
     "end_time": "2024-12-19T10:31:33.917971700Z",
     "start_time": "2024-12-19T10:31:33.908456100Z"
    }
   },
   "id": "b5fc9cdedfcbaaa9"
  },
  {
   "cell_type": "markdown",
   "source": [
    "### Zadanie 3: Indeksowanie i wycinanie\n",
    "1. Stwórz tensor 4x4 zawierający liczby od 1 do 16.\n",
    "2. Wykonaj następujące operacje:\n",
    "a. Wyciągnij cały drugi wiersz.\n",
    "b. Wyciągnij trzeci element z drugiego wiersza.\n",
    "c. Wyciągnij podmacierz 2x2 z dolnego prawego rogu."
   ],
   "metadata": {
    "collapsed": false
   },
   "id": "9033cb9741d23055"
  },
  {
   "cell_type": "code",
   "execution_count": 9,
   "outputs": [
    {
     "data": {
      "text/plain": "tensor([[ 1,  2,  3,  4],\n        [ 5,  6,  7,  8],\n        [ 9, 10, 11, 12],\n        [13, 14, 15, 16]])"
     },
     "execution_count": 9,
     "metadata": {},
     "output_type": "execute_result"
    }
   ],
   "source": [
    "#1.\n",
    "tensor4x4 = torch.arange(1, 17).reshape(4,4) #stworzenie tensora jednowymiarowego wypełnionego liczbami z zakresu 1 - 16 i zamiana go na tensor dwuwymiarowy 4x4\n",
    "tensor4x4"
   ],
   "metadata": {
    "collapsed": false,
    "ExecuteTime": {
     "end_time": "2024-12-19T10:31:35.151216800Z",
     "start_time": "2024-12-19T10:31:35.119691Z"
    }
   },
   "id": "55b953fc385f261"
  },
  {
   "cell_type": "code",
   "execution_count": 10,
   "outputs": [
    {
     "data": {
      "text/plain": "tensor([5, 6, 7, 8])"
     },
     "execution_count": 10,
     "metadata": {},
     "output_type": "execute_result"
    }
   ],
   "source": [
    "#2.a.\n",
    "tensor4x4[1, :] #drugi wiersz tensora"
   ],
   "metadata": {
    "collapsed": false,
    "ExecuteTime": {
     "end_time": "2024-12-19T10:31:35.533955Z",
     "start_time": "2024-12-19T10:31:35.508438700Z"
    }
   },
   "id": "349de1049775e6ef"
  },
  {
   "cell_type": "code",
   "execution_count": 11,
   "outputs": [
    {
     "data": {
      "text/plain": "tensor(7)"
     },
     "execution_count": 11,
     "metadata": {},
     "output_type": "execute_result"
    }
   ],
   "source": [
    "#b.\n",
    "tensor4x4[1, 2] #trzeci element drugiego wiersza tensora"
   ],
   "metadata": {
    "collapsed": false,
    "ExecuteTime": {
     "end_time": "2024-12-19T10:31:36.138524900Z",
     "start_time": "2024-12-19T10:31:36.131005700Z"
    }
   },
   "id": "8295012e7cd0dc13"
  },
  {
   "cell_type": "code",
   "execution_count": 12,
   "outputs": [
    {
     "data": {
      "text/plain": "tensor([[11, 12],\n        [15, 16]])"
     },
     "execution_count": 12,
     "metadata": {},
     "output_type": "execute_result"
    }
   ],
   "source": [
    "#c.\n",
    "tensor4x4[2:,2:] #podmacierz 2x2 z prawego dolnego rogu tensora"
   ],
   "metadata": {
    "collapsed": false,
    "ExecuteTime": {
     "end_time": "2024-12-19T10:31:38.812874Z",
     "start_time": "2024-12-19T10:31:38.769893300Z"
    }
   },
   "id": "14dec4b928115b80"
  },
  {
   "cell_type": "markdown",
   "source": [
    "### Zadanie 4: Praca z GPU\n",
    "1. Sprawdź, czy masz dostępne GPU za pomocą torch.cuda.is_available().\n",
    "2. Stwórz tensor na GPU i wykonaj na nim operacje matematyczne (mnożenie, dzielenie,\n",
    "dodawanie i potęgowanie).\n",
    "3. Przenieś tensor z GPU na CPU i wyświetl wynik.\n"
   ],
   "metadata": {
    "collapsed": false
   },
   "id": "7116318a1935d5de"
  },
  {
   "cell_type": "code",
   "execution_count": 13,
   "outputs": [
    {
     "data": {
      "text/plain": "True"
     },
     "execution_count": 13,
     "metadata": {},
     "output_type": "execute_result"
    }
   ],
   "source": [
    "#1.\n",
    "torch.cuda.is_available() #sprawdzenie, czy gpu jest dostępne"
   ],
   "metadata": {
    "collapsed": false,
    "ExecuteTime": {
     "end_time": "2024-12-19T10:31:41.345505800Z",
     "start_time": "2024-12-19T10:31:41.232953600Z"
    }
   },
   "id": "66c96ff52e861560"
  },
  {
   "cell_type": "code",
   "execution_count": 27,
   "outputs": [
    {
     "data": {
      "text/plain": "tensor([[ 2,  6,  2,  4,  7,  6,  7,  7,  5,  5],\n        [ 3,  6,  9,  5,  1, 10, 10,  7,  8,  6],\n        [ 5,  3, 10,  3,  8,  9,  9,  7,  6,  2],\n        [10, 10,  1,  7,  7,  5,  1,  3, 10,  3],\n        [10,  2,  6,  8,  6, 10,  8,  6,  6,  1],\n        [ 7,  7,  5,  2,  7,  8,  5,  6,  2,  1],\n        [ 2,  5,  8,  7,  5,  4,  9,  8,  5, 10],\n        [ 1,  1,  4,  6,  2,  1,  2,  3,  9,  9],\n        [ 7,  9,  3,  8,  7,  5,  9, 10,  8,  9],\n        [10,  1,  2,  9,  5,  8,  7,  2,  2,  9]])"
     },
     "execution_count": 27,
     "metadata": {},
     "output_type": "execute_result"
    }
   ],
   "source": [
    "#2.\n",
    "cuda_tensor = torch.randint(1, 11, (10, 10)) #utworzenie tensora na cpu\n",
    "cuda_tensor"
   ],
   "metadata": {
    "collapsed": false,
    "ExecuteTime": {
     "end_time": "2024-12-19T10:42:15.453796900Z",
     "start_time": "2024-12-19T10:42:15.431244300Z"
    }
   },
   "id": "1c90ca0812e7b13d"
  },
  {
   "cell_type": "code",
   "execution_count": 28,
   "outputs": [],
   "source": [
    "cuda_tensor = cuda_tensor.to(torch.device('cuda')) #przeniesienie tensora na gpu"
   ],
   "metadata": {
    "collapsed": false,
    "ExecuteTime": {
     "end_time": "2024-12-19T10:42:16.289346700Z",
     "start_time": "2024-12-19T10:42:16.274192600Z"
    }
   },
   "id": "2945c0510916299d"
  },
  {
   "cell_type": "code",
   "execution_count": 29,
   "outputs": [
    {
     "data": {
      "text/plain": "tensor([[ 20,  60,  20,  40,  70,  60,  70,  70,  50,  50],\n        [ 30,  60,  90,  50,  10, 100, 100,  70,  80,  60],\n        [ 50,  30, 100,  30,  80,  90,  90,  70,  60,  20],\n        [100, 100,  10,  70,  70,  50,  10,  30, 100,  30],\n        [100,  20,  60,  80,  60, 100,  80,  60,  60,  10],\n        [ 70,  70,  50,  20,  70,  80,  50,  60,  20,  10],\n        [ 20,  50,  80,  70,  50,  40,  90,  80,  50, 100],\n        [ 10,  10,  40,  60,  20,  10,  20,  30,  90,  90],\n        [ 70,  90,  30,  80,  70,  50,  90, 100,  80,  90],\n        [100,  10,  20,  90,  50,  80,  70,  20,  20,  90]], device='cuda:0')"
     },
     "execution_count": 29,
     "metadata": {},
     "output_type": "execute_result"
    }
   ],
   "source": [
    "cuda_tensor = cuda_tensor*10 #mnożenie\n",
    "cuda_tensor"
   ],
   "metadata": {
    "collapsed": false,
    "ExecuteTime": {
     "end_time": "2024-12-19T10:42:16.710865400Z",
     "start_time": "2024-12-19T10:42:16.700316500Z"
    }
   },
   "id": "83c3d62e9b8b0a9a"
  },
  {
   "cell_type": "code",
   "execution_count": 30,
   "outputs": [
    {
     "data": {
      "text/plain": "tensor([[10., 30., 10., 20., 35., 30., 35., 35., 25., 25.],\n        [15., 30., 45., 25.,  5., 50., 50., 35., 40., 30.],\n        [25., 15., 50., 15., 40., 45., 45., 35., 30., 10.],\n        [50., 50.,  5., 35., 35., 25.,  5., 15., 50., 15.],\n        [50., 10., 30., 40., 30., 50., 40., 30., 30.,  5.],\n        [35., 35., 25., 10., 35., 40., 25., 30., 10.,  5.],\n        [10., 25., 40., 35., 25., 20., 45., 40., 25., 50.],\n        [ 5.,  5., 20., 30., 10.,  5., 10., 15., 45., 45.],\n        [35., 45., 15., 40., 35., 25., 45., 50., 40., 45.],\n        [50.,  5., 10., 45., 25., 40., 35., 10., 10., 45.]], device='cuda:0')"
     },
     "execution_count": 30,
     "metadata": {},
     "output_type": "execute_result"
    }
   ],
   "source": [
    "cuda_tensor = cuda_tensor/2 #dzielenie\n",
    "cuda_tensor"
   ],
   "metadata": {
    "collapsed": false,
    "ExecuteTime": {
     "end_time": "2024-12-19T10:42:17.215810900Z",
     "start_time": "2024-12-19T10:42:17.189346100Z"
    }
   },
   "id": "eccbd24281f8a340"
  },
  {
   "cell_type": "code",
   "execution_count": 31,
   "outputs": [
    {
     "data": {
      "text/plain": "tensor([[15., 35., 15., 25., 40., 35., 40., 40., 30., 30.],\n        [20., 35., 50., 30., 10., 55., 55., 40., 45., 35.],\n        [30., 20., 55., 20., 45., 50., 50., 40., 35., 15.],\n        [55., 55., 10., 40., 40., 30., 10., 20., 55., 20.],\n        [55., 15., 35., 45., 35., 55., 45., 35., 35., 10.],\n        [40., 40., 30., 15., 40., 45., 30., 35., 15., 10.],\n        [15., 30., 45., 40., 30., 25., 50., 45., 30., 55.],\n        [10., 10., 25., 35., 15., 10., 15., 20., 50., 50.],\n        [40., 50., 20., 45., 40., 30., 50., 55., 45., 50.],\n        [55., 10., 15., 50., 30., 45., 40., 15., 15., 50.]], device='cuda:0')"
     },
     "execution_count": 31,
     "metadata": {},
     "output_type": "execute_result"
    }
   ],
   "source": [
    "cuda_tensor = cuda_tensor+5 #dodawanie\n",
    "cuda_tensor"
   ],
   "metadata": {
    "collapsed": false,
    "ExecuteTime": {
     "end_time": "2024-12-19T10:42:17.688414600Z",
     "start_time": "2024-12-19T10:42:17.668388600Z"
    }
   },
   "id": "c05b62d349aaf7a"
  },
  {
   "cell_type": "code",
   "execution_count": 32,
   "outputs": [
    {
     "data": {
      "text/plain": "tensor([[ 225., 1225.,  225.,  625., 1600., 1225., 1600., 1600.,  900.,  900.],\n        [ 400., 1225., 2500.,  900.,  100., 3025., 3025., 1600., 2025., 1225.],\n        [ 900.,  400., 3025.,  400., 2025., 2500., 2500., 1600., 1225.,  225.],\n        [3025., 3025.,  100., 1600., 1600.,  900.,  100.,  400., 3025.,  400.],\n        [3025.,  225., 1225., 2025., 1225., 3025., 2025., 1225., 1225.,  100.],\n        [1600., 1600.,  900.,  225., 1600., 2025.,  900., 1225.,  225.,  100.],\n        [ 225.,  900., 2025., 1600.,  900.,  625., 2500., 2025.,  900., 3025.],\n        [ 100.,  100.,  625., 1225.,  225.,  100.,  225.,  400., 2500., 2500.],\n        [1600., 2500.,  400., 2025., 1600.,  900., 2500., 3025., 2025., 2500.],\n        [3025.,  100.,  225., 2500.,  900., 2025., 1600.,  225.,  225., 2500.]],\n       device='cuda:0')"
     },
     "execution_count": 32,
     "metadata": {},
     "output_type": "execute_result"
    }
   ],
   "source": [
    "cuda_tensor = cuda_tensor**2 #potęgowanie\n",
    "cuda_tensor"
   ],
   "metadata": {
    "collapsed": false,
    "ExecuteTime": {
     "end_time": "2024-12-19T10:42:18.470107700Z",
     "start_time": "2024-12-19T10:42:18.444813600Z"
    }
   },
   "id": "b0c271bc8d409e37"
  },
  {
   "cell_type": "code",
   "execution_count": 33,
   "outputs": [
    {
     "data": {
      "text/plain": "tensor([[ 225., 1225.,  225.,  625., 1600., 1225., 1600., 1600.,  900.,  900.],\n        [ 400., 1225., 2500.,  900.,  100., 3025., 3025., 1600., 2025., 1225.],\n        [ 900.,  400., 3025.,  400., 2025., 2500., 2500., 1600., 1225.,  225.],\n        [3025., 3025.,  100., 1600., 1600.,  900.,  100.,  400., 3025.,  400.],\n        [3025.,  225., 1225., 2025., 1225., 3025., 2025., 1225., 1225.,  100.],\n        [1600., 1600.,  900.,  225., 1600., 2025.,  900., 1225.,  225.,  100.],\n        [ 225.,  900., 2025., 1600.,  900.,  625., 2500., 2025.,  900., 3025.],\n        [ 100.,  100.,  625., 1225.,  225.,  100.,  225.,  400., 2500., 2500.],\n        [1600., 2500.,  400., 2025., 1600.,  900., 2500., 3025., 2025., 2500.],\n        [3025.,  100.,  225., 2500.,  900., 2025., 1600.,  225.,  225., 2500.]])"
     },
     "execution_count": 33,
     "metadata": {},
     "output_type": "execute_result"
    }
   ],
   "source": [
    "#3.\n",
    "cuda_tensor = cuda_tensor.detach().cpu() #przeniesienie tensora z gpu na cpu\n",
    "cuda_tensor"
   ],
   "metadata": {
    "collapsed": false,
    "ExecuteTime": {
     "end_time": "2024-12-19T10:42:37.465654900Z",
     "start_time": "2024-12-19T10:42:37.443228300Z"
    }
   },
   "id": "f18260338fcc4972"
  },
  {
   "cell_type": "markdown",
   "source": [
    "### Zadanie 5: Konwersja między NumPy a PyTorch\n",
    "1. Stwórz tablicę NumPy zawierającą liczby od 0 do 5.\n",
    "2. Przekonwertuj ją na tensor PyTorch.\n",
    "3. Przekonwertuj tensor PyTorch z powrotem na tablicę NumPy."
   ],
   "metadata": {
    "collapsed": false
   },
   "id": "531c3712643f9004"
  },
  {
   "cell_type": "code",
   "execution_count": 43,
   "outputs": [
    {
     "data": {
      "text/plain": "array([0, 1, 2, 3, 4, 5])"
     },
     "execution_count": 43,
     "metadata": {},
     "output_type": "execute_result"
    }
   ],
   "source": [
    "#1.\n",
    "numpy_array = np.arange(0, 6) #tablica numpy zawierająca liczby z zakresu 0 - 5\n",
    "numpy_array"
   ],
   "metadata": {
    "collapsed": false,
    "ExecuteTime": {
     "end_time": "2024-12-19T10:44:57.314100200Z",
     "start_time": "2024-12-19T10:44:57.300528300Z"
    }
   },
   "id": "2fd173b544d96357"
  },
  {
   "cell_type": "code",
   "execution_count": 44,
   "outputs": [
    {
     "data": {
      "text/plain": "tensor([0, 1, 2, 3, 4, 5], dtype=torch.int32)"
     },
     "execution_count": 44,
     "metadata": {},
     "output_type": "execute_result"
    }
   ],
   "source": [
    "#2.\n",
    "torch_tensor = torch.from_numpy(numpy_array) #konwersja tablicy numpy na tensor torch\n",
    "torch_tensor"
   ],
   "metadata": {
    "collapsed": false,
    "ExecuteTime": {
     "end_time": "2024-12-19T10:45:59.842646400Z",
     "start_time": "2024-12-19T10:45:59.825315800Z"
    }
   },
   "id": "5dde0c1635cc77f8"
  },
  {
   "cell_type": "code",
   "execution_count": 45,
   "outputs": [
    {
     "data": {
      "text/plain": "array([0, 1, 2, 3, 4, 5])"
     },
     "execution_count": 45,
     "metadata": {},
     "output_type": "execute_result"
    }
   ],
   "source": [
    "#3.\n",
    "torch_to_numpy = torch_tensor.numpy() #konwersja tensora torch na tablicę numpy\n",
    "torch_to_numpy"
   ],
   "metadata": {
    "collapsed": false,
    "ExecuteTime": {
     "end_time": "2024-12-19T10:48:17.091194100Z",
     "start_time": "2024-12-19T10:48:17.071724100Z"
    }
   },
   "id": "729dfed7870d98d"
  },
  {
   "cell_type": "markdown",
   "id": "4f1659c0-afb1-4358-8d5c-b667766e6dd7",
   "metadata": {},
   "source": [
    "### Wnioski"
   ]
  },
  {
   "cell_type": "markdown",
   "source": [
    "Podczas laboratorium miałem okazję popracować na tensorach w bibliotece torch. Szczególnie ważnym dla mnie elementem zajęć była praca na GPU, ze względu na bogate zastosowanie tego rozwiązania w uczeniu maszynowym, którym się interesuję."
   ],
   "metadata": {
    "collapsed": false
   },
   "id": "e118c442f1b63f9f"
  },
  {
   "cell_type": "code",
   "execution_count": null,
   "outputs": [],
   "source": [],
   "metadata": {
    "collapsed": false
   },
   "id": "ad07932d59e2ce8f"
  }
 ],
 "metadata": {
  "kernelspec": {
   "display_name": "Python 3 (ipykernel)",
   "language": "python",
   "name": "python3"
  },
  "language_info": {
   "codemirror_mode": {
    "name": "ipython",
    "version": 3
   },
   "file_extension": ".py",
   "mimetype": "text/x-python",
   "name": "python",
   "nbconvert_exporter": "python",
   "pygments_lexer": "ipython3",
   "version": "3.11.10"
  }
 },
 "nbformat": 4,
 "nbformat_minor": 5
}
